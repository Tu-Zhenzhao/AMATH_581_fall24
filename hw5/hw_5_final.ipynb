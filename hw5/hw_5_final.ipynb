{
 "cells": [
  {
   "cell_type": "markdown",
   "id": "61e357c0-9f99-4869-bcc8-d2b60fba07f7",
   "metadata": {},
   "source": [
    "# HW 5"
   ]
  },
  {
   "cell_type": "markdown",
   "id": "4496d2ff-3de1-47cc-adbd-08c40cf0ae06",
   "metadata": {},
   "source": [
    "## Part a\n",
    "\n",
    "Recall the hw4's matrixs:"
   ]
  },
  {
   "cell_type": "code",
   "execution_count": 28,
   "id": "f967e61f-95a3-4f21-b4c9-7e87519e4690",
   "metadata": {},
   "outputs": [],
   "source": [
    "import numpy as np\n",
    "from scipy.fft import fft2, ifft2\n",
    "from scipy.integrate import solve_ivp\n",
    "import matplotlib.pyplot as plt\n",
    "from scipy.sparse import diags, kron, eye, csr_matrix, spdiags\n",
    "from scipy.sparse.linalg import spsolve, bicgstab, gmres, splu\n",
    "from scipy.linalg import lu, solve_triangular \n",
    "import time\n",
    "\n",
    "import matplotlib.pyplot as plt\n",
    "import copy"
   ]
  },
  {
   "cell_type": "code",
   "execution_count": 6,
   "id": "73c6352e-ae4f-49dd-be57-e8c46b70cbc8",
   "metadata": {},
   "outputs": [],
   "source": [
    "# Define parameters\n",
    "m = 64\n",
    "n = m * m # N value in x and y directions\n",
    "x_min, x_max = -10, 10\n",
    "dx = (x_max - x_min) / m\n",
    "\n",
    "# total size of matrix\n",
    "e0 = np.zeros(n) # vector of zeros\n",
    "e1 = np.ones(n) # vector of ones\n",
    "e2 = np.copy(e1) # copy the one vector\n",
    "e4 = np.copy(e0) # copy the zero vector\n",
    "\n",
    "for j in range(1, m+1):\n",
    "    e2[m*j-1] = 0 # overwrite every m^th value with zero\n",
    "    e4[m*j-1] = 1 # overwirte every m^th value with one\n",
    "\n",
    "# Shift to correct positions\n",
    "e3 = np.zeros_like(e2)\n",
    "e3[1:n] = e2[0:n-1]\n",
    "e3[0] = e2[n-1]\n",
    "e5 = np.zeros_like(e4)\n",
    "e5[1:n] = e4[0:n-1]\n",
    "e5[0] = e4[n-1]\n",
    "\n",
    "# Place diagonal elements\n",
    "diagonals = [e1.flatten(), e1.flatten(), e5.flatten(),e2.flatten(),-4*e1.flatten(), e3.flatten(),e4.flatten(), e1.flatten(), e1.flatten()]\n",
    "offsets = [-(n-m), -m, -m+1, -1, 0, 1, m-1, m, (n-m)]\n",
    "A = spdiags(diagonals, offsets, n, n).toarray()\n",
    "A = A/(dx**2)\n",
    "\n",
    "# Create matrix B\n",
    "e = np.ones(n)\n",
    "\n",
    "data_B = [e, -1*e, e, -1*e]\n",
    "offsets_B = [-(n-m), -m, m, (n - m)]\n",
    "B = spdiags(data_B, offsets_B, n, n).toarray()\n",
    "B = B/(2*dx)\n",
    "\n",
    "# Create matrix C\n",
    "e1 = np.zeros(n)\n",
    "e2 = np.ones(n)\n",
    "e3 = np.ones(n)\n",
    "e4 = np.zeros(n)\n",
    "\n",
    "\n",
    "for i in range(n):\n",
    "    if (i + 1) % m == 1:\n",
    "        e1[i] = 1\n",
    "        e3[i] = 0\n",
    "    if (i + 1) % m == 0:\n",
    "        e2[i] = 0\n",
    "        e4[i] = 1\n",
    "\n",
    "e2 = -1*e2\n",
    "e4 = -1*e4\n",
    "\n",
    "C = spdiags([e1,e2, e3,e4],[-m+1, -1,1,m-1], n,n).toarray()\n",
    "C = C/(2*dx)"
   ]
  },
  {
   "cell_type": "code",
   "execution_count": 7,
   "id": "de66b227-887f-4878-89af-569d62ab0ced",
   "metadata": {},
   "outputs": [],
   "source": [
    "# Parameters\n",
    "n = 64  # Number of grid points\n",
    "x_min, x_max = -10, 10  # Spatial domain in x\n",
    "y_min, y_max = -10, 10  # Spatial domain in y\n",
    "nu = 0.001  # Viscosity\n",
    "t_span = (0, 4)  # Time span for integration\n",
    "#t_span = (0, 10)\n",
    "t_eval = np.arange(0, 4.5, 0.5)  # Time evaluation points\n",
    "#t_eval = np.arange(0, 10.5, 0.5)"
   ]
  },
  {
   "cell_type": "code",
   "execution_count": 8,
   "id": "8332b36d-5e7d-45d3-9db4-472518ead2d5",
   "metadata": {},
   "outputs": [],
   "source": [
    "# Define spatial domain and initial conditions\n",
    "x2 = np.linspace(x_min, x_max, n + 1)\n",
    "x = x2[:n]\n",
    "y2 = np.linspace(y_min, y_max, n + 1)\n",
    "y = y2[:n]\n",
    "X, Y = np.meshgrid(x, y)\n",
    "\n",
    "# Initial vorticity (elliptical Gaussian)\n",
    "omega0 = np.exp(-X**2 - Y**2 / 20)\n",
    "omega0_flat = omega0.flatten()"
   ]
  },
  {
   "cell_type": "code",
   "execution_count": 9,
   "id": "fcd65876-7767-4b22-84e1-643490c7fe2f",
   "metadata": {},
   "outputs": [],
   "source": [
    "# Wavenumber grids for FFT\n",
    "kx = np.fft.fftfreq(n, d=(x_max - x_min) / n) * 2 * np.pi\n",
    "ky = np.fft.fftfreq(n, d=(y_max - y_min) / n) * 2 * np.pi\n",
    "kx[0] = 1e-6  # Avoid division by zero\n",
    "ky[0] = 1e-6\n",
    "KX, KY = np.meshgrid(kx, ky, indexing='ij')\n",
    "K2 = KX**2 + KY**2\n",
    "K2[0, 0] = 1e-6  # Avoid division by zero at (0,0)"
   ]
  },
  {
   "cell_type": "code",
   "execution_count": 10,
   "id": "e2f01203-ed82-4cc7-8dd8-9bceb190dbe7",
   "metadata": {},
   "outputs": [],
   "source": [
    "def spc_rhs(t, wt2, n, K, nu, A, B, C):\n",
    "    \n",
    "    wt = wt2.reshape((n, n))\n",
    "    wtfft = fft2(wt)\n",
    "    psix = np.real(ifft2(-wtfft / K)).flatten()\n",
    "    rhs = (nu * (A @ wt2) + (B @ wt2) * (C @ psix) - (B @ psix) * (C @ wt2))\n",
    "    \n",
    "    return rhs"
   ]
  },
  {
   "cell_type": "code",
   "execution_count": 11,
   "id": "d8445b5f-4085-4e11-81d2-1dc431bf1a00",
   "metadata": {},
   "outputs": [],
   "source": [
    "# Integrate in time using solve_ivp\n",
    "sol = solve_ivp(spc_rhs, [0,4], omega0_flat, t_eval=t_eval, method='RK45', args=(n, K2, nu,A,B,C))\n",
    "# Extract the solution for vorticity at each time step\n",
    "A1 = sol.y  # A1 has shape (n*n, number of time steps)"
   ]
  },
  {
   "cell_type": "code",
   "execution_count": 13,
   "id": "45425ab9-0e85-431a-bbc4-03cc30c285f1",
   "metadata": {},
   "outputs": [
    {
     "data": {
      "text/plain": [
       "(4096, 9)"
      ]
     },
     "execution_count": 13,
     "metadata": {},
     "output_type": "execute_result"
    }
   ],
   "source": [
    "A1.shape"
   ]
  },
  {
   "cell_type": "markdown",
   "id": "fa2e1abf-b9f3-4d26-ac4d-b65f7b3625d1",
   "metadata": {},
   "source": [
    "## Video for part a (optional)"
   ]
  },
  {
   "cell_type": "code",
   "execution_count": 39,
   "id": "22c503f7-e693-4bf4-b170-d2308a5440c6",
   "metadata": {},
   "outputs": [],
   "source": [
    "import numpy as np\n",
    "from scipy.fft import fft2, ifft2\n",
    "from scipy.integrate import solve_ivp\n",
    "import matplotlib.pyplot as plt\n",
    "from matplotlib.animation import FFMpegWriter\n",
    "\n",
    "# FFT-based RHS for part (a)\n",
    "def spc_rhs(t, wt2, n, K, nu, A, B, C):\n",
    "    wt = wt2.reshape((n, n))\n",
    "    wtfft = fft2(wt)\n",
    "    psix = np.real(ifft2(-wtfft / K)).flatten()\n",
    "    rhs = (nu * (A @ wt2) + (B @ wt2) * (C @ psix) - (B @ psix) * (C @ wt2))\n",
    "    return rhs\n",
    "\n",
    "# Parameters\n",
    "t_span = (0, 10)\n",
    "t_eval = np.linspace(0, 10, 201)  # Fine time grid for smoother animation\n",
    "X, Y = np.meshgrid(np.linspace(x_min, x_max, n), np.linspace(y_min, y_max, n))\n",
    "\n",
    "# Initial condition: Elliptical Gaussian (no changes)\n",
    "omega0_flat = np.exp(-X**2 - Y**2 / 20).flatten()\n",
    "\n",
    "# Solve using FFT-based method\n",
    "sol_fft = solve_ivp(lambda t, omega: spc_rhs(t, omega, n, K2, nu, A, B, C),\n",
    "                    t_span, omega0_flat, t_eval=t_eval)\n",
    "\n",
    "# Create video\n",
    "def create_fft_animation(results, filename):\n",
    "    fig, ax = plt.subplots()\n",
    "    cax = ax.pcolormesh(X, Y, results[0].reshape((n, n)), cmap='RdBu', shading='auto')\n",
    "    plt.colorbar(cax)\n",
    "\n",
    "    def update(frame):\n",
    "        cax.set_array(results[frame].reshape((n, n)).flatten())\n",
    "        return cax,\n",
    "\n",
    "    writer = FFMpegWriter(fps=10, metadata={'title': filename})\n",
    "    with writer.saving(fig, filename, dpi=100):\n",
    "        for i in range(len(results)):\n",
    "            update(i)\n",
    "            writer.grab_frame()\n",
    "    plt.close()\n",
    "\n",
    "# Generate and save the video\n",
    "create_fft_animation(sol_fft.y.T, \"fft_based_vorticity.mp4\")"
   ]
  },
  {
   "cell_type": "markdown",
   "id": "fcd3756f-bd70-4721-95f2-066354669f9c",
   "metadata": {},
   "source": [
    "## Part B\n",
    "\n",
    "Compute in two ways:\n",
    "1. A\\B\n",
    "2. LU decomposition"
   ]
  },
  {
   "cell_type": "code",
   "execution_count": 15,
   "id": "58da5030-2ce9-4da3-a681-06e3fd6d6017",
   "metadata": {},
   "outputs": [],
   "source": [
    "# set A[0,0]=2\n",
    "A[0,0] /= -2"
   ]
  },
  {
   "cell_type": "code",
   "execution_count": 22,
   "id": "3dc49011-6ad7-403c-a673-aee87438654f",
   "metadata": {},
   "outputs": [],
   "source": [
    "def rhs_ode_GE(t, omega, A, B, C):\n",
    "        \n",
    "        #solving for A.psi = w using GE\n",
    "        #psi0 = spsolve(A,omega_0)\n",
    "        psi = np.linalg.solve(A,omega)\n",
    "        psi_x = B@psi\n",
    "        psi_y = C@psi\n",
    "        omega_x = B@omega\n",
    "        omega_y = C@omega\n",
    "        omega = nu*(A@omega) - psi_x*omega_y + psi_y*omega_x\n",
    "         \n",
    "        \n",
    "        return omega\n",
    "\n",
    "def rhs_ode_LU(t, omega, A, B, C):\n",
    "        \n",
    "        #solving for A.psi = w using GE\n",
    "        #psi0 = spsolve(A,omega_0)\n",
    "        plu = splu(A)\n",
    "        psi = plu.solve(omega)\n",
    "        psi_x = B@psi\n",
    "        psi_y = C@psi\n",
    "        omega_x = B@omega\n",
    "        omega_y = C@omega\n",
    "        omega = nu*(A)@omega - np.multiply(psi_x,omega_y) + np.multiply(psi_y,omega_x)\n",
    "        \n",
    "        return omega"
   ]
  },
  {
   "cell_type": "code",
   "execution_count": 25,
   "id": "f168f149-a435-489e-8132-438bbcb9a9eb",
   "metadata": {},
   "outputs": [
    {
     "name": "stdout",
     "output_type": "stream",
     "text": [
      "11.578789234161377\n"
     ]
    },
    {
     "data": {
      "text/plain": [
       "array([[ 2.50656748e-46,  1.17762859e-43,  4.55107657e-41, ...,\n",
       "         1.96785570e-38,  6.19028421e-41,  1.60178709e-43],\n",
       "       [-1.78630705e-36, -2.26093387e-29, -4.24661881e-29, ...,\n",
       "         7.20814729e-28,  1.69117621e-28,  5.05834665e-29],\n",
       "       [ 1.02614869e-36,  1.85614646e-29,  3.48720993e-29, ...,\n",
       "        -6.58759786e-28, -1.49205998e-28, -4.38046443e-29],\n",
       "       ...,\n",
       "       [-5.75086257e-26, -1.48306461e-19, -2.20165937e-20, ...,\n",
       "         4.01674620e-20,  3.00460834e-20,  2.47633369e-20],\n",
       "       [-6.68013806e-25, -7.82424220e-19, -2.91637720e-19, ...,\n",
       "         1.34371413e-19,  1.76009486e-19,  1.15181522e-20],\n",
       "       [ 3.02201851e-24,  1.67449651e-18,  1.23961335e-18, ...,\n",
       "        -8.94163775e-19, -9.80736832e-19,  3.12761254e-20]])"
      ]
     },
     "execution_count": 25,
     "metadata": {},
     "output_type": "execute_result"
    }
   ],
   "source": [
    "#%%time for Direct\n",
    "start_time = time.time()\n",
    "sol_GE = solve_ivp(lambda t,omega: rhs_ode_GE(t,omega, A, B, C), [0, 4], \n",
    "                                omega0_flat, t_eval = t_eval)\n",
    "end_time = time.time()\n",
    "\n",
    "elapsed_time = end_time - start_time\n",
    "print(elapsed_time)\n",
    "A3 = copy.deepcopy(sol_GE.y.T)\n",
    "A3"
   ]
  },
  {
   "cell_type": "code",
   "execution_count": 29,
   "id": "8734e7b8-1760-47fd-8371-f741d6d7830b",
   "metadata": {},
   "outputs": [
    {
     "name": "stderr",
     "output_type": "stream",
     "text": [
      "/var/folders/nl/b7zy1y7s7qgbg3knnf6pq3w80000gn/T/ipykernel_50360/428979330.py:19: SparseEfficiencyWarning: splu converted its input to CSC format\n",
      "  plu = splu(A)\n"
     ]
    },
    {
     "name": "stdout",
     "output_type": "stream",
     "text": [
      "10.418726205825806\n"
     ]
    },
    {
     "data": {
      "text/plain": [
       "array([[ 2.50656748e-46,  1.17762859e-43,  4.55107657e-41, ...,\n",
       "         1.96785570e-38,  6.19028421e-41,  1.60178709e-43],\n",
       "       [-1.78630705e-36, -2.26093387e-29, -4.24661881e-29, ...,\n",
       "         7.20814729e-28,  1.69117621e-28,  5.05834665e-29],\n",
       "       [ 1.02614869e-36,  1.85614646e-29,  3.48720993e-29, ...,\n",
       "        -6.58759786e-28, -1.49205998e-28, -4.38046443e-29],\n",
       "       ...,\n",
       "       [-5.75086257e-26, -1.48306461e-19, -2.20165937e-20, ...,\n",
       "         4.01674620e-20,  3.00460834e-20,  2.47633369e-20],\n",
       "       [-6.68013806e-25, -7.82424220e-19, -2.91637720e-19, ...,\n",
       "         1.34371413e-19,  1.76009486e-19,  1.15181522e-20],\n",
       "       [ 3.02201851e-24,  1.67449651e-18,  1.23961335e-18, ...,\n",
       "        -8.94163775e-19, -9.80736832e-19,  3.12761254e-20]])"
      ]
     },
     "execution_count": 29,
     "metadata": {},
     "output_type": "execute_result"
    }
   ],
   "source": [
    "#%%time for LU \n",
    "start_time = time.time()\n",
    "sol_LU = solve_ivp(lambda t,omega: rhs_ode_LU(t,omega, A, B, C), [0, 4], \n",
    "                                omega0_flat, t_eval = t_eval)\n",
    "end_time = time.time()\n",
    "\n",
    "elapsed_time = end_time - start_time\n",
    "print(elapsed_time)\n",
    "A4 = copy.deepcopy(sol_GE.y.T)\n",
    "A4"
   ]
  },
  {
   "cell_type": "markdown",
   "id": "dbc54831-8eda-4dcc-ab87-bfc862b72565",
   "metadata": {},
   "source": [
    "## Part B (Compare four methods)"
   ]
  },
  {
   "cell_type": "code",
   "execution_count": 32,
   "id": "b2ac6a8e-271d-4f7f-b46d-a4aaab502b6a",
   "metadata": {},
   "outputs": [
    {
     "name": "stderr",
     "output_type": "stream",
     "text": [
      "/var/folders/nl/b7zy1y7s7qgbg3knnf6pq3w80000gn/T/ipykernel_50360/565227455.py:9: DeprecationWarning: 'scipy.sparse.linalg.bicgstab' keyword argument `tol` is deprecated in favor of `rtol` and will be removed in SciPy v1.14.0. Until then, if set, it will override `rtol`.\n",
      "  psi, info = bicgstab(A, rhs, tol=tol, callback=lambda r: residuals.append(np.linalg.norm(r)))\n"
     ]
    },
    {
     "name": "stdout",
     "output_type": "stream",
     "text": [
      "BICGSTAB elapsed time: 57.49 seconds\n"
     ]
    },
    {
     "name": "stderr",
     "output_type": "stream",
     "text": [
      "/var/folders/nl/b7zy1y7s7qgbg3knnf6pq3w80000gn/T/ipykernel_50360/565227455.py:11: DeprecationWarning: scipy.sparse.linalg.gmres called without specifying `callback_type`. The default value will be changed in a future release. For compatibility, specify a value for `callback_type` explicitly, e.g., ``gmres(..., callback_type='pr_norm')``, or to retain the old behavior ``gmres(..., callback_type='legacy')``\n",
      "  psi, info = gmres(A, rhs, tol=tol, callback=lambda r: residuals.append(np.linalg.norm(r)))\n",
      "/var/folders/nl/b7zy1y7s7qgbg3knnf6pq3w80000gn/T/ipykernel_50360/565227455.py:11: DeprecationWarning: 'scipy.sparse.linalg.gmres' keyword argument `tol` is deprecated in favor of `rtol` and will be removed in SciPy v1.14.0. Until then, if set, it will override `rtol`.\n",
      "  psi, info = gmres(A, rhs, tol=tol, callback=lambda r: residuals.append(np.linalg.norm(r)))\n"
     ]
    },
    {
     "name": "stdout",
     "output_type": "stream",
     "text": [
      "GMRES elapsed time: 468.39 seconds\n",
      "FFT-based method elapsed time: 0.31 seconds\n"
     ]
    },
    {
     "name": "stderr",
     "output_type": "stream",
     "text": [
      "/var/folders/nl/b7zy1y7s7qgbg3knnf6pq3w80000gn/T/ipykernel_50360/428979330.py:19: SparseEfficiencyWarning: splu converted its input to CSC format\n",
      "  plu = splu(A)\n"
     ]
    },
    {
     "name": "stdout",
     "output_type": "stream",
     "text": [
      "LU decomposition elapsed time: 11.71 seconds\n"
     ]
    },
    {
     "data": {
      "image/png": "[encoded data removed]",
      "text/plain": [
       "<Figure size 1000x600 with 1 Axes>"
      ]
     },
     "metadata": {},
     "output_type": "display_data"
    },
    {
     "name": "stdout",
     "output_type": "stream",
     "text": [
      "Elapsed Times:\n",
      "FFT-based method: 0.31 seconds\n",
      "LU decomposition: 11.71 seconds\n",
      "BICGSTAB: 57.49 seconds\n",
      "GMRES: 468.39 seconds\n"
     ]
    }
   ],
   "source": [
    "from scipy.sparse.linalg import bicgstab, gmres\n",
    "import matplotlib.pyplot as plt\n",
    "\n",
    "# Custom rhs for BICGSTAB and GMRES with residual tracking\n",
    "def rhs_ode_iterative(t, omega, A, B, C, method, tol=1e-5, residuals=None):\n",
    "    # Solve A.psi = omega using iterative solver\n",
    "    def linear_system_solver(rhs):\n",
    "        if method == 'bicgstab':\n",
    "            psi, info = bicgstab(A, rhs, tol=tol, callback=lambda r: residuals.append(np.linalg.norm(r)))\n",
    "        elif method == 'gmres':\n",
    "            psi, info = gmres(A, rhs, tol=tol, callback=lambda r: residuals.append(np.linalg.norm(r)))\n",
    "        else:\n",
    "            raise ValueError(\"Invalid method specified.\")\n",
    "        return psi\n",
    "\n",
    "    psi = linear_system_solver(omega)\n",
    "    psi_x = B @ psi\n",
    "    psi_y = C @ psi\n",
    "    omega_x = B @ omega\n",
    "    omega_y = C @ omega\n",
    "    rhs = nu * (A @ omega) - np.multiply(psi_x, omega_y) + np.multiply(psi_y, omega_x)\n",
    "    return rhs\n",
    "\n",
    "# Residual tracking for BICGSTAB\n",
    "residuals_bicgstab = []\n",
    "start_time = time.time()\n",
    "sol_bicgstab = solve_ivp(lambda t, omega: rhs_ode_iterative(t, omega, A, B, C, 'bicgstab', tol=1e-5, residuals=residuals_bicgstab),\n",
    "                         [0, 4], omega0_flat, t_eval=t_eval)\n",
    "elapsed_time_bicgstab = time.time() - start_time\n",
    "print(f\"BICGSTAB elapsed time: {elapsed_time_bicgstab:.2f} seconds\")\n",
    "\n",
    "# Residual tracking for GMRES\n",
    "residuals_gmres = []\n",
    "start_time = time.time()\n",
    "sol_gmres = solve_ivp(lambda t, omega: rhs_ode_iterative(t, omega, A, B, C, 'gmres', tol=1e-5, residuals=residuals_gmres),\n",
    "                      [0, 4], omega0_flat, t_eval=t_eval)\n",
    "elapsed_time_gmres = time.time() - start_time\n",
    "print(f\"GMRES elapsed time: {elapsed_time_gmres:.2f} seconds\")\n",
    "\n",
    "# Timing and comparison for FFT-based method\n",
    "start_time = time.time()\n",
    "sol_fft = solve_ivp(lambda t, omega: spc_rhs(t, omega, n, K2, nu, A, B, C),\n",
    "                    [0, 4], omega0_flat, t_eval=t_eval)\n",
    "elapsed_time_fft = time.time() - start_time\n",
    "print(f\"FFT-based method elapsed time: {elapsed_time_fft:.2f} seconds\")\n",
    "\n",
    "# Timing and comparison for LU-based method\n",
    "start_time = time.time()\n",
    "sol_lu = solve_ivp(lambda t, omega: rhs_ode_LU(t, omega, A, B, C), [0, 4], omega0_flat, t_eval=t_eval)\n",
    "elapsed_time_lu = time.time() - start_time\n",
    "print(f\"LU decomposition elapsed time: {elapsed_time_lu:.2f} seconds\")\n",
    "\n",
    "# Plot residuals for iterative solvers\n",
    "plt.figure(figsize=(10, 6))\n",
    "plt.semilogy(residuals_bicgstab, label=\"BICGSTAB residuals\")\n",
    "plt.semilogy(residuals_gmres, label=\"GMRES residuals\")\n",
    "plt.xlabel(\"Iteration\")\n",
    "plt.ylabel(\"Residual (log scale)\")\n",
    "plt.title(\"Residuals for BICGSTAB and GMRES\")\n",
    "plt.legend()\n",
    "plt.grid()\n",
    "plt.show()\n",
    "\n",
    "# Compare results\n",
    "print(\"Elapsed Times:\")\n",
    "print(f\"FFT-based method: {elapsed_time_fft:.2f} seconds\")\n",
    "print(f\"LU decomposition: {elapsed_time_lu:.2f} seconds\")\n",
    "print(f\"BICGSTAB: {elapsed_time_bicgstab:.2f} seconds\")\n",
    "print(f\"GMRES: {elapsed_time_gmres:.2f} seconds\")"
   ]
  },
  {
   "cell_type": "markdown",
   "id": "8757003e-1d89-4f15-b958-22a6ad3d7184",
   "metadata": {},
   "source": [
    "# Part C\n",
    "Change inital conditions for LU"
   ]
  },
  {
   "cell_type": "code",
   "execution_count": 33,
   "id": "41940c5a-f205-4124-871b-8ae9dc3d520e",
   "metadata": {},
   "outputs": [],
   "source": [
    "import numpy as np\n",
    "import matplotlib.pyplot as plt\n",
    "from scipy.integrate import solve_ivp\n",
    "from matplotlib.animation import FFMpegWriter\n",
    "\n",
    "# Parameters\n",
    "n = 64  # Grid size\n",
    "x_min, x_max = -10, 10\n",
    "y_min, y_max = -10, 10\n",
    "nu = 0.001  # Viscosity\n",
    "t_span = (0, 60)  # Time span\n",
    "t_eval = np.arange(0, 60.5, 0.5)  # Time evaluation points\n",
    "X, Y = np.meshgrid(np.linspace(x_min, x_max, n), np.linspace(y_min, y_max, n))\n",
    "\n",
    "# LU solver-based RHS\n",
    "def rhs_ode_LU(t, omega, A, B, C):\n",
    "    psi = np.linalg.solve(A, omega)  # Solve A.psi = omega\n",
    "    psi_x = B @ psi\n",
    "    psi_y = C @ psi\n",
    "    omega_x = B @ omega\n",
    "    omega_y = C @ omega\n",
    "    rhs = nu * (A @ omega) - psi_x * omega_y + psi_y * omega_x\n",
    "    return rhs\n",
    "\n",
    "# Visualization function\n",
    "def create_animation(results, filename):\n",
    "    fig, ax = plt.subplots()\n",
    "    cax = ax.pcolormesh(X, Y, results[0].reshape((n, n)), cmap='RdBu', shading='auto')\n",
    "    plt.colorbar(cax)\n",
    "    \n",
    "    def update(frame):\n",
    "        cax.set_array(results[frame].reshape((n, n)).flatten())\n",
    "        return cax,\n",
    "\n",
    "    writer = FFMpegWriter(fps=10, metadata={'title': filename})\n",
    "    with writer.saving(fig, filename, dpi=100):\n",
    "        for i in range(len(results)):\n",
    "            update(i)\n",
    "            writer.grab_frame()\n",
    "    plt.close()\n"
   ]
  },
  {
   "cell_type": "code",
   "execution_count": 34,
   "id": "f88f4652-af48-4667-b2f0-028059514bad",
   "metadata": {},
   "outputs": [],
   "source": [
    "# 1. Two oppositely charged Gaussian vortices\n",
    "winit_1 = 0.5 * np.exp(-(X)**2 - (Y+1)**2) - 0.5 * np.exp(-(X)**2 - (Y-1)**2)\n",
    "omega0_1 = winit_1.flatten()\n",
    "\n",
    "sol_1 = solve_ivp(lambda t, omega: rhs_ode_LU(t, omega, A, B, C), t_span, omega0_1, t_eval=t_eval)\n",
    "create_animation(sol_1.y.T, \"oppositely_charged_vortices.mp4\")\n",
    "\n"
   ]
  },
  {
   "cell_type": "code",
   "execution_count": 35,
   "id": "2fe0593a-c7e4-4495-8401-2ab1d4ea784a",
   "metadata": {},
   "outputs": [],
   "source": [
    "# 2. Two same charged Gaussian vortices\n",
    "winit_2 = np.exp(-(X)**2 - (Y+2)**2) + np.exp(-(X)**2 - (Y-2)**2)\n",
    "omega0_2 = winit_2.flatten()\n",
    "\n",
    "sol_2 = solve_ivp(lambda t, omega: rhs_ode_LU(t, omega, A, B, C), t_span, omega0_2, t_eval=t_eval)\n",
    "create_animation(sol_2.y.T, \"same_charged_vortices.mp4\")\n",
    "\n"
   ]
  },
  {
   "cell_type": "code",
   "execution_count": 36,
   "id": "d83476e1-78f6-468c-86c1-af394427ee53",
   "metadata": {},
   "outputs": [],
   "source": [
    "# 3. Two pairs of oppositely charged vortices\n",
    "winit_3 = 0.8 * np.exp(-(X)**2 - (Y+0.5)**2) - 1.15 * np.exp(-(X)**2 - (Y)**2)\n",
    "omega0_3 = winit_3.flatten()\n",
    "\n",
    "sol_3 = solve_ivp(lambda t, omega: rhs_ode_LU(t, omega, A, B, C), t_span, omega0_3, t_eval=t_eval)\n",
    "create_animation(sol_3.y.T, \"colliding_vortices.mp4\")\n",
    "\n"
   ]
  },
  {
   "cell_type": "code",
   "execution_count": 37,
   "id": "a4564fed-01e1-4ee8-9ce0-bb9987c1dfd6",
   "metadata": {},
   "outputs": [],
   "source": [
    "# 4. Random assortment of vortices\n",
    "winit_4 = (\n",
    "    1.0 * np.exp(-(X+1)**2 - (Y+1)**2) -\n",
    "    0.7 * np.exp(-(X)**2 - (Y)**2) +\n",
    "    1.0 * np.exp(-(X-1)**2 - (Y-1)**2) -\n",
    "    1.0 * np.exp(-(X+1)**2 - (Y-1)**2) +\n",
    "    0.8 * np.exp(-(X-1)**2 - (Y+1)**2) -\n",
    "    1.0 * np.exp(-1/5 * (X-4)**2 - 1/10 * (Y+4)**2) +\n",
    "    1.1 * np.exp(-1/10 * (X-4)**2 - 1/20 * (Y-4)**2) -\n",
    "    1.0 * np.exp(-(X+6)**2 - (Y)**2) +\n",
    "    1.0 * np.exp(-(X-6)**2 - (Y-2)**2)\n",
    ")\n",
    "omega0_4 = winit_4.flatten()\n",
    "\n",
    "sol_4 = solve_ivp(lambda t, omega: rhs_ode_LU(t, omega, A, B, C), t_span, omega0_4, t_eval=t_eval)\n",
    "create_animation(sol_4.y.T, \"random_vortices.mp4\")"
   ]
  },
  {
   "cell_type": "code",
   "execution_count": null,
   "id": "87898c47-b40b-471b-8a3e-c88c9cc45148",
   "metadata": {},
   "outputs": [],
   "source": []
  }
 ],
 "metadata": {
  "kernelspec": {
   "display_name": "Python 3 (ipykernel)",
   "language": "python",
   "name": "python3"
  },
  "language_info": {
   "codemirror_mode": {
    "name": "ipython",
    "version": 3
   },
   "file_extension": ".py",
   "mimetype": "text/x-python",
   "name": "python",
   "nbconvert_exporter": "python",
   "pygments_lexer": "ipython3",
   "version": "3.10.9"
  }
 },
 "nbformat": 4,
 "nbformat_minor": 5
}
