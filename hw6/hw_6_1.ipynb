{
 "cells": [
  {
   "cell_type": "code",
   "execution_count": 22,
   "id": "1319d662-ac9e-4d88-ac6d-401ab1476693",
   "metadata": {},
   "outputs": [],
   "source": [
    "import numpy as np\n",
    "import scipy\n",
    "from scipy.fft import fft2, ifft2\n",
    "import matplotlib.pyplot as plt"
   ]
  },
  {
   "cell_type": "code",
   "execution_count": 10,
   "id": "9f2861df-abed-4be1-9b90-f909dd6d3ea0",
   "metadata": {},
   "outputs": [],
   "source": [
    "# Initialize x-y mesh\n",
    "x = np.linspace(-10, 10, 64, endpoint=False)\n",
    "y = np.linspace(-10, 10, 64, endpoint=False)\n",
    "X, Y = np.meshgrid(x, y)\n",
    "\n",
    "# Define initial conditions\n",
    "m = 3\n",
    "alpha = 0\n",
    "n = 64\n",
    "u = (np.tanh(np.sqrt(X**2 + Y**2)) - alpha)*np.cos(m*np.angle(X + 1j*Y) - np.sqrt(X**2 + Y**2))\n",
    "v = (np.tanh(np.sqrt(X**2 + Y**2)) - alpha)*np.sin(m*np.angle(X + 1j*Y) - np.sqrt(X**2 + Y**2))\n",
    "A1 = X\n",
    "A2 = u\n",
    "\n",
    "# Transform into Fourier domain\n",
    "u0 = fft2(u)\n",
    "v0 = fft2(v)\n",
    "A3 = u0.real\n",
    "\n",
    "# Append initial conditions\n",
    "u0 = u0.reshape(-1, 1, order='F')\n",
    "v0 = v0.reshape(-1, 1, order='F')\n",
    "vec0 = np.concatenate((u0, v0))\n",
    "A4 = vec0.imag\n",
    "\n",
    "def rhs1(t, n, vec, beta, KX, KY):\n",
    "    \"\"\"Right-hand side function to return Fourier transform of the solution\"\"\"\n",
    "    u_hat = vec[:4096].reshape(n, n, order='F')\n",
    "    v_hat = vec[4096:].reshape(n, n, order='F')\n",
    "\n",
    "    # Transform out of Fourier domain\n",
    "    u = ifft2(u_hat)\n",
    "    v = ifft2(v_hat)\n",
    "\n",
    "    u_nl = u - u**3 - u*v**2 + beta*(v*u**2 + v**3)\n",
    "    v_nl = -beta*(u**3 + u*v**2) - v + v*u**2 + v**3\n",
    "\n",
    "    u_t = fft2(u_nl) - 0.1*((KX**2)*u_hat + (KY**2)*u_hat)\n",
    "    v_t = fft2(v_nl) - 0.1*((KX**2)*v_hat + (KY**2)*v_hat)\n",
    "\n",
    "    u_t = u_t.reshape(n**2, order='F')\n",
    "    v_t = v_t.reshape(n**2, order='F')\n",
    "    rhs = np.concatenate((u_t, v_t), axis=0)\n",
    "\n",
    "    return rhs"
   ]
  },
  {
   "cell_type": "code",
   "execution_count": 11,
   "id": "a96f3c30-7c24-44e4-9c8d-208577a17896",
   "metadata": {},
   "outputs": [
    {
     "data": {
      "text/plain": [
       "array([-0.3016566 , -0.64475668, -0.75494739, -0.79196993, -0.82652957,\n",
       "       -0.85136787, -0.84566054, -0.79611449, -0.69842677, -0.56194496])"
      ]
     },
     "execution_count": 11,
     "metadata": {},
     "output_type": "execute_result"
    }
   ],
   "source": [
    "t_span = np.linspace(0, 25, 51)\n",
    "r1 = np.arange(0, n/2, 1)\n",
    "r2 = np.arange(-n/2, 0, 1)\n",
    "kx = (2*np.pi/20)*np.concatenate((r1, r2))\n",
    "ky = kx.copy()\n",
    "KX, KY = np.meshgrid(kx, ky)\n",
    "beta = 1\n",
    "\n",
    "# Timestep using the explicit Runge-Kutta method of order 4(5)\n",
    "sol1 = scipy.integrate.solve_ivp(lambda t, vec: rhs1(t, n, vec, beta, KX, KY), [0, 25], np.squeeze(vec0), t_eval = t_span)\n",
    "A5 = sol1.y.real\n",
    "A6 = sol1.y.imag\n",
    "A7 = sol1.y.real[:4096][:, 4].reshape(-1, 1)\n",
    "A8 = sol1.y.real[:4096][:, 4].reshape(n, n, order='F')\n",
    "A9 = ifft2(sol1.y[:4096][:, 4].reshape(n, n, order='F')).real\n",
    "A9[:10, 0]"
   ]
  },
  {
   "cell_type": "code",
   "execution_count": 12,
   "id": "6f0b9805-9310-449f-b6af-267273535a45",
   "metadata": {},
   "outputs": [],
   "source": [
    "def cheb(N):\n",
    "    # N is the number of points in the interior.\n",
    "    if N==0:\n",
    "        D = 0\n",
    "        x = 1\n",
    "        return D, x\n",
    "    vals = np.linspace(0, N, N+1)\n",
    "    x = np.cos(np.pi*vals/N)\n",
    "    x = x.reshape(-1, 1)\n",
    "    c = np.ones(N-1)\n",
    "    c = np.pad(c, (1,), constant_values = 2)\n",
    "    c *= (-1)**vals\n",
    "    c = c.reshape(-1, 1)\n",
    "    X = np.tile(x, (1, N+1))\n",
    "    dX = X-X.T                  \n",
    "    D  = (c*(1/c.T))/(dX+(np.eye(N+1)))       #off-diagonal entries\n",
    "    D  = D - np.diag(sum(D.T))                #diagonal entries\n",
    "\n",
    "    return D, x"
   ]
  },
  {
   "cell_type": "code",
   "execution_count": 13,
   "id": "f0022035-1949-4c9c-a618-4655411e6a02",
   "metadata": {},
   "outputs": [],
   "source": [
    "tspan = np.arange(0,25.5,0.5)\n",
    "\n",
    "#Define the drag term\n",
    "nu = 0.001\n",
    "L=20\n",
    "n=64\n",
    "\n",
    "beta = 1\n",
    "D1 = 0.1\n",
    "D2 = 0.1\n",
    "\n",
    "#Setup our x and y domain\n",
    "x2 = np.linspace(-L/2,L/2,n+1) \n",
    "x=x2[0:-1] \n",
    "y=x.copy()\n",
    "\n",
    "#Setup the x values.\n",
    "r1=np.arange(0,n/2,1)\n",
    "r2=np.arange(-n/2,0,1)\n",
    "kx = (2*np.pi/L)*np.concatenate((r1,r2))\n",
    "ky=kx.copy()\n",
    "\n",
    "#Put X and Y on a meshgrid\n",
    "[X,Y]=np.meshgrid(x,y)\n",
    "\n",
    "#Do the same for the k values\n",
    "[KX,KY]=np.meshgrid(kx,ky)"
   ]
  },
  {
   "cell_type": "code",
   "execution_count": 14,
   "id": "8d5ff12b-27f3-4db4-be99-d02d5b63a4a7",
   "metadata": {},
   "outputs": [],
   "source": [
    "X, Y = np.meshgrid(x,y)\n",
    "m = 3\n",
    "alpha = 0\n",
    "\n",
    "#initial conditions\n",
    "u = (np.tanh(np.sqrt(X**2+Y**2))-alpha)*np.cos(m*np.angle(X+1j*Y) - np.sqrt(X**2+Y**2))\n",
    "v = (np.tanh(np.sqrt(X**2+Y**2))-alpha)*np.sin(m*np.angle(X+1j*Y) - np.sqrt(X**2+Y**2))"
   ]
  },
  {
   "cell_type": "code",
   "execution_count": 15,
   "id": "4aade973-a7cb-4e79-8cb6-79bbeeaabffe",
   "metadata": {},
   "outputs": [],
   "source": [
    "# initial conditions in fourier space, vector form\n",
    "U_hat_0 = fft2(u)\n",
    "V_hat_0 = fft2(v)   \n",
    "\n",
    "#converting to a vector because to send to the solver\n",
    "U_hat_0_vec = U_hat_0.reshape(n**2,order= 'F')\n",
    "V_hat_0_vec = V_hat_0.reshape(n**2,order= 'F')"
   ]
  },
  {
   "cell_type": "code",
   "execution_count": 16,
   "id": "49a078a7-530c-4cf6-b56b-4d6972721666",
   "metadata": {},
   "outputs": [],
   "source": [
    "init_vec = np.concatenate((U_hat_0_vec,V_hat_0_vec),axis=0).squeeze()"
   ]
  },
  {
   "cell_type": "code",
   "execution_count": 17,
   "id": "2f7b9dad-b8c4-43f3-b356-503a0c31ac5c",
   "metadata": {},
   "outputs": [],
   "source": [
    "def vortrhs(t, vec, D1, D2, beta, n, KX, KY):\n",
    "    # Reshape the Fourier-transformed vector\n",
    "    # into an nxn matrix\n",
    "    u_double_hat = vec[0:4096].reshape(n, n,order= 'F')\n",
    "    v_double_hat = vec[4096:8192].reshape(n, n, order= 'F')\n",
    "    \n",
    "    #Write all of the terms in the physical space\n",
    "    u = np.real(ifft2(u_double_hat))\n",
    "    v = np.real(ifft2(v_double_hat))\n",
    "    #need fourier transformed data--->u_double_hat\n",
    "    \n",
    "    #calculate a, lambda, omega (vectors)\n",
    "    A_2 = u**2 + v**2\n",
    "    lambda_A = 1 - A_2\n",
    "    omega_A = -beta*A_2\n",
    "    \n",
    "    #print(\"A_2\", np.shape(A_2))\n",
    "    #print(\"lambda_A\", np.shape(lambda_A))\n",
    "    #print(\"omega_A\", np.shape(omega_A))\n",
    "    \n",
    "    #calculate u_t and v_t\n",
    "    # Ut= λ(A)U −ω(A)V + D1∇2U\n",
    "    # Vt= ω(A)U −λ(A)V + D2∇2V\n",
    "    \n",
    "    NL_u = lambda_A*u - omega_A*v \n",
    "    NL_v = omega_A*u - lambda_A*v\n",
    "    \n",
    "    #print(\"NL_u\", np.shape(NL_u))\n",
    "    #print(\"NL_u\", np.shape(NL_u))\n",
    "    \n",
    "    u_t = fft2(NL_u) + D1*(-(KX**2)*u_double_hat-(KY**2)*u_double_hat)\n",
    "    v_t = fft2(NL_v) + D2*(-(KX**2)*v_double_hat-(KY**2)*v_double_hat)\n",
    "    \n",
    "    #print(\"u_t\", np.shape(u_t))\n",
    "    #print(\"v_t\", np.shape(v_t))\n",
    "    \n",
    "    #Convert everything back and return a vector in the Fourier space.\n",
    "    u_t_col = u_t.reshape(n**2,order= 'F')\n",
    "    v_t_col = v_t.reshape(n**2,order= 'F')\n",
    "    \n",
    "    #print(\"u_t_col\", np.shape(u_t_col))\n",
    "    #print(\"v_t_col\", np.shape(v_t_col))\n",
    "    \n",
    "    rhs = np.concatenate([u_t_col,v_t_col],axis=0).squeeze()\n",
    "    #print(np.shape(rhs))\n",
    "\n",
    "    return rhs"
   ]
  },
  {
   "cell_type": "code",
   "execution_count": 18,
   "id": "eb2e56fe-2e85-48de-9e37-5720bcbea852",
   "metadata": {},
   "outputs": [],
   "source": [
    "sol = scipy.integrate.solve_ivp(lambda t,wfvec: vortrhs(t, wfvec, D1, D2, beta, n, KX, KY),[0, 25], init_vec, t_eval = tspan)\n"
   ]
  },
  {
   "cell_type": "code",
   "execution_count": 19,
   "id": "25c979b9-e19d-465c-b604-e60ca7e11aa6",
   "metadata": {},
   "outputs": [
    {
     "data": {
      "text/plain": [
       "(8192, 51)"
      ]
     },
     "execution_count": 19,
     "metadata": {},
     "output_type": "execute_result"
    }
   ],
   "source": [
    "np.shape(sol.y)"
   ]
  },
  {
   "cell_type": "code",
   "execution_count": 21,
   "id": "d9fcfd9a-ea4f-4ae8-afb4-00f19af513c6",
   "metadata": {},
   "outputs": [
    {
     "data": {
      "text/plain": [
       "array([[-0.3016566 , -0.19954917, -0.04481181, ..., -0.33599327,\n",
       "        -0.35352404, -0.34852306],\n",
       "       [-0.64475668, -0.61703499, -0.48148686, ..., -0.42962951,\n",
       "        -0.50767665, -0.59386354],\n",
       "       [-0.75494739, -0.7907254 , -0.71091835, ..., -0.4634504 ,\n",
       "        -0.538604  , -0.65222852],\n",
       "       ...,\n",
       "       [ 0.72251944,  0.64867299,  0.57679747, ...,  0.33743702,\n",
       "         0.57662119,  0.71663886],\n",
       "       [ 0.59397034,  0.57665859,  0.53791175, ...,  0.17705862,\n",
       "         0.3806944 ,  0.53564253],\n",
       "       [ 0.22879916,  0.30558584,  0.36576119, ..., -0.10327906,\n",
       "         0.00321206,  0.12456776]])"
      ]
     },
     "execution_count": 21,
     "metadata": {},
     "output_type": "execute_result"
    }
   ],
   "source": [
    "np.real(ifft2(sol.y[0:4096,4].reshape(64,64).T))"
   ]
  },
  {
   "cell_type": "code",
   "execution_count": 27,
   "id": "64c84256-96ec-41e4-ac69-26d597f1e814",
   "metadata": {},
   "outputs": [
    {
     "name": "stdout",
     "output_type": "stream",
     "text": [
      "(64, 64)\n"
     ]
    },
    {
     "data": {
      "image/png": "[encoded data removed]",
      "text/plain": [
       "<Figure size 640x480 with 2 Axes>"
      ]
     },
     "metadata": {},
     "output_type": "display_data"
    }
   ],
   "source": [
    "[X,Y]=np.meshgrid(x,y)\n",
    "tspan[50] =25\n",
    "z = np.real(ifft2(sol.y[0:4096,50].reshape(64,64)))\n",
    "print(np.shape(z))\n",
    "\n",
    "# Generate the plot\n",
    "fig, ax = plt.subplots()\n",
    "cmap = ax.pcolor(X, Y, z.T)\n",
    "fig.colorbar(cmap)\n",
    "plt.show(fig)"
   ]
  },
  {
   "cell_type": "markdown",
   "id": "686bf52a-d026-49e8-82af-fa3fdffdce5b",
   "metadata": {},
   "source": [
    "# Problem 2"
   ]
  },
  {
   "cell_type": "code",
   "execution_count": 28,
   "id": "31c50474-c589-40fc-978c-60334c1d9f6c",
   "metadata": {},
   "outputs": [],
   "source": [
    "# Define initial conditions\n",
    "m = 2\n",
    "alpha = 0\n",
    "n = 30\n",
    "\n",
    "# Create the Chebyshev differentiation matrix\n",
    "[D, x] = cheb(n)\n",
    "x = 10*x.reshape(n + 1)\n",
    "D2 = D@D\n",
    "D2 = D2[1:-1, 1:-1]/100\n",
    "\n",
    "# Scale Laplacian\n",
    "I = np.eye(len(D2))\n",
    "Lap = np.kron(D2, I) + np.kron(I, D2)\n",
    "A10 = Lap\n",
    "\n",
    "# Create the Chebyshev points\n",
    "x2 = x[1:-1]\n",
    "y2 = x2.copy()\n",
    "[X, Y] = np.meshgrid(x2, y2)\n",
    "A11 = Y"
   ]
  },
  {
   "cell_type": "code",
   "execution_count": 29,
   "id": "05bfbdc9-4744-4a41-affe-452e9c6802cb",
   "metadata": {},
   "outputs": [
    {
     "data": {
      "text/plain": [
       "array([[ 0.        ,  0.        ,  0.        ,  0.        ,  0.        ],\n",
       "       [ 0.        , -0.00057048, -0.00246571, -0.006178  , -0.00773975],\n",
       "       [ 0.        , -0.00242569, -0.01105432, -0.02917693, -0.03907062],\n",
       "       [ 0.        , -0.00647927, -0.03108673, -0.08798226, -0.12622243],\n",
       "       [ 0.        , -0.00997321, -0.04979572, -0.14576024, -0.20631408]])"
      ]
     },
     "execution_count": 29,
     "metadata": {},
     "output_type": "execute_result"
    }
   ],
   "source": [
    "u = (np.tanh(np.sqrt(X**2 + Y**2)) - alpha)*np.cos(m*np.angle(X + 1j*Y) - np.sqrt(X**2 + Y**2))\n",
    "v = (np.tanh(np.sqrt(X**2 + Y**2)) - alpha)*np.sin(m*np.angle(X + 1j*Y) - np.sqrt(X**2 + Y**2))\n",
    "A12 = v\n",
    "\n",
    "# Append initial conditions\n",
    "u = u.reshape(-1, 1, order='F')\n",
    "v = v.reshape(-1, 1, order='F')\n",
    "vec1 = np.concatenate((u, v), axis=0)\n",
    "A13 = vec1\n",
    "\n",
    "def rhs2(t, vec, beta, Lap):\n",
    "    \"\"\"\"Right-hand side function to solve our PDE\"\"\"\n",
    "    u = vec[:841]\n",
    "    v = vec[841:]\n",
    "\n",
    "    u_nl = u - u**3 - u*v**2 + beta*(v*u**2 + v**3)\n",
    "    v_nl = -beta*(u**3 + u*v**2) - v + v*u**2 + v**3\n",
    "\n",
    "    u_t = u_nl + 0.1*(Lap@u)\n",
    "    v_t = v_nl + 0.1*(Lap@v)\n",
    "\n",
    "    rhs = np.concatenate((u_t, v_t), axis=0)\n",
    "\n",
    "    return rhs\n",
    "\n",
    "# Timestep using the explicit Runge-Kutta method of order 4(5)\n",
    "sol2 = scipy.integrate.solve_ivp(lambda t, vec: rhs2(t, vec, beta, Lap), [0, 25], np.squeeze(vec1), t_eval = t_span)\n",
    "A14 = sol2.y.T\n",
    "A15 = sol2.y.real[841:][:, 4].reshape(-1, 1)\n",
    "A16 = np.pad(A15.reshape(29, 29).T, [1, 1])\n",
    "A16[:5, :5]"
   ]
  },
  {
   "cell_type": "code",
   "execution_count": null,
   "id": "b718e600-1f7a-4748-8698-1adf96256e22",
   "metadata": {},
   "outputs": [],
   "source": []
  }
 ],
 "metadata": {
  "kernelspec": {
   "display_name": "Python 3 (ipykernel)",
   "language": "python",
   "name": "python3"
  },
  "language_info": {
   "codemirror_mode": {
    "name": "ipython",
    "version": 3
   },
   "file_extension": ".py",
   "mimetype": "text/x-python",
   "name": "python",
   "nbconvert_exporter": "python",
   "pygments_lexer": "ipython3",
   "version": "3.10.9"
  }
 },
 "nbformat": 4,
 "nbformat_minor": 5
}
