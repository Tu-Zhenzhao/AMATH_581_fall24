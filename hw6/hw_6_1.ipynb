{
 "cells": [
  {
   "cell_type": "code",
   "execution_count": 1,
   "id": "1319d662-ac9e-4d88-ac6d-401ab1476693",
   "metadata": {},
   "outputs": [],
   "source": [
    "import numpy as np\n",
    "import scipy\n",
    "from scipy.fft import fft2, ifft2\n",
    "import matplotlib.pyplot as plt"
   ]
  },
  {
   "cell_type": "code",
   "execution_count": 126,
   "id": "9f2861df-abed-4be1-9b90-f909dd6d3ea0",
   "metadata": {},
   "outputs": [],
   "source": [
    "# Initialize x-y mesh\n",
    "x = np.linspace(-10, 10, 64, endpoint=False)\n",
    "y = np.linspace(-10, 10, 64, endpoint=False)\n",
    "X, Y = np.meshgrid(x, y)\n",
    "\n",
    "# Define initial conditions\n",
    "m = 1\n",
    "alpha = 0\n",
    "n = 64\n",
    "u = (np.tanh(np.sqrt(X**2 + Y**2)) - alpha)*np.cos(m*np.angle(X + 1j*Y) - np.sqrt(X**2 + Y**2))\n",
    "v = (np.tanh(np.sqrt(X**2 + Y**2)) - alpha)*np.sin(m*np.angle(X + 1j*Y) - np.sqrt(X**2 + Y**2))\n",
    "A1 = X\n",
    "A2 = u\n",
    "\n",
    "# Transform into Fourier domain\n",
    "u0 = fft2(u)\n",
    "v0 = fft2(v)\n",
    "A3 = u0.real\n",
    "\n",
    "vec0_new = np.hstack([(u0.reshape(n*n), v0.reshape(n*n))])\n",
    "\n",
    "# Append initial conditions\n",
    "u0 = u0.reshape(-1, 1, order='F')\n",
    "v0 = v0.reshape(-1, 1, order='F')\n",
    "vec0 = np.concatenate((u0, v0))\n",
    "A4 = vec0.imag\n",
    "\n",
    "def rhs1(t, n, vec, beta, KX, KY):\n",
    "    \"\"\"Right-hand side function to return Fourier transform of the solution\"\"\"\n",
    "    u_hat = vec[:4096].reshape(n, n, order='F')\n",
    "    v_hat = vec[4096:].reshape(n, n, order='F')\n",
    "\n",
    "    # Transform out of Fourier domain\n",
    "    u = ifft2(u_hat)\n",
    "    v = ifft2(v_hat)\n",
    "\n",
    "    u_nl = u - u**3 - u*v**2 + beta*(v*u**2 + v**3)\n",
    "    v_nl = -beta*(u**3 + u*v**2) + v - v*u**2 - v**3\n",
    "\n",
    "    u_t = fft2(u_nl) - 0.1*((KX**2)*u_hat + (KY**2)*u_hat)\n",
    "    v_t = fft2(v_nl) - 0.1*((KX**2)*v_hat + (KY**2)*v_hat)\n",
    "\n",
    "    u_t = u_t.reshape(n**2, order='F')\n",
    "    v_t = v_t.reshape(n**2, order='F')\n",
    "    rhs = np.concatenate((u_t, v_t), axis=0)\n",
    "\n",
    "    return rhs"
   ]
  },
  {
   "cell_type": "code",
   "execution_count": 127,
   "id": "cf7a9f99-3724-412b-ad41-228574c6f86f",
   "metadata": {},
   "outputs": [
    {
     "data": {
      "text/plain": [
       "array([[-10.    ,  -9.6875,  -9.375 , ...,   9.0625,   9.375 ,   9.6875],\n",
       "       [-10.    ,  -9.6875,  -9.375 , ...,   9.0625,   9.375 ,   9.6875],\n",
       "       [-10.    ,  -9.6875,  -9.375 , ...,   9.0625,   9.375 ,   9.6875],\n",
       "       ...,\n",
       "       [-10.    ,  -9.6875,  -9.375 , ...,   9.0625,   9.375 ,   9.6875],\n",
       "       [-10.    ,  -9.6875,  -9.375 , ...,   9.0625,   9.375 ,   9.6875],\n",
       "       [-10.    ,  -9.6875,  -9.375 , ...,   9.0625,   9.375 ,   9.6875]])"
      ]
     },
     "execution_count": 127,
     "metadata": {},
     "output_type": "execute_result"
    }
   ],
   "source": [
    "X"
   ]
  },
  {
   "cell_type": "code",
   "execution_count": 128,
   "id": "3192d01b-2311-45b4-8e58-366a421602f4",
   "metadata": {},
   "outputs": [
    {
     "data": {
      "text/plain": [
       "array([0. , 0.5, 1. , 1.5, 2. , 2.5, 3. , 3.5, 4. ])"
      ]
     },
     "execution_count": 128,
     "metadata": {},
     "output_type": "execute_result"
    }
   ],
   "source": [
    "t_span = np.linspace(0, 4, 9)\n",
    "t_span"
   ]
  },
  {
   "cell_type": "code",
   "execution_count": 129,
   "id": "c9b66c5f-8949-483e-8992-d33f461a9b3c",
   "metadata": {},
   "outputs": [
    {
     "data": {
      "text/plain": [
       "(8192,)"
      ]
     },
     "execution_count": 129,
     "metadata": {},
     "output_type": "execute_result"
    }
   ],
   "source": [
    "np.squeeze(vec0).shape"
   ]
  },
  {
   "cell_type": "code",
   "execution_count": 130,
   "id": "453019df-251c-4b40-9f50-ab420cb96fab",
   "metadata": {},
   "outputs": [
    {
     "data": {
      "text/plain": [
       "(2, 4096)"
      ]
     },
     "execution_count": 130,
     "metadata": {},
     "output_type": "execute_result"
    }
   ],
   "source": [
    "vec0_new.shape"
   ]
  },
  {
   "cell_type": "code",
   "execution_count": 131,
   "id": "a96f3c30-7c24-44e4-9c8d-208577a17896",
   "metadata": {},
   "outputs": [
    {
     "data": {
      "text/plain": [
       "array([[ 0.04736064,  0.28133149,  0.40533858, ..., -0.39682142,\n",
       "        -0.3207424 , -0.16293972],\n",
       "       [-0.35052829, -0.04875761,  0.12279245, ..., -0.72544528,\n",
       "        -0.70229182, -0.59007818],\n",
       "       [-0.55427268, -0.2701817 , -0.10639557, ..., -0.8698788 ,\n",
       "        -0.86781795, -0.77714496],\n",
       "       ...,\n",
       "       [ 0.86154337,  0.92296386,  0.9143369 , ...,  0.47410608,\n",
       "         0.55025144,  0.71735188],\n",
       "       [ 0.77718833,  0.85307907,  0.85788894, ...,  0.28891867,\n",
       "         0.40292024,  0.6114546 ],\n",
       "       [ 0.51541845,  0.63887318,  0.68372814, ..., -0.00172152,\n",
       "         0.12407574,  0.33709663]])"
      ]
     },
     "execution_count": 131,
     "metadata": {},
     "output_type": "execute_result"
    }
   ],
   "source": [
    "t_span = np.linspace(0, 4, 9)\n",
    "r1 = np.arange(0, n/2, 1)\n",
    "r2 = np.arange(-n/2, 0, 1)\n",
    "kx = (2*np.pi/20)*np.concatenate((r1, r2))\n",
    "ky = kx.copy()\n",
    "KX, KY = np.meshgrid(kx, ky)\n",
    "beta = 1\n",
    "\n",
    "# Timestep using the explicit Runge-Kutta method of order 4(5)\n",
    "sol1 = scipy.integrate.solve_ivp(lambda t, vec: rhs1(t, n, vec, beta, KX, KY), [0, 4], np.squeeze(vec0), t_eval = t_span)\n",
    "A5 = sol1.y.real\n",
    "A6 = sol1.y.imag\n",
    "A7 = sol1.y.real[:4096][:, 4].reshape(-1, 1)\n",
    "A8 = sol1.y.real[:4096][:, 4].reshape(n, n, order='F')\n",
    "A9 = ifft2(sol1.y[:4096][:, 4].reshape(n, n, order='F')).real\n",
    "A9"
   ]
  },
  {
   "cell_type": "code",
   "execution_count": 132,
   "id": "bd6411db-e39f-473a-a004-f00d70277edd",
   "metadata": {},
   "outputs": [
    {
     "data": {
      "text/plain": [
       "array([[ 24.94003847+0.00000000e+00j,  12.73268299-1.11053201e-15j,\n",
       "         -1.38095598-2.32314163e-16j, ..., -64.02389647-1.46100786e-14j,\n",
       "        -67.76356741-1.56109324e-14j, -61.18058974-1.99476748e-14j],\n",
       "       [  0.99295252-1.42103578e+01j,  12.02949309-4.37375205e+01j,\n",
       "         24.70184895-7.06089959e+01j, ...,  29.22746661-3.10063992e+01j,\n",
       "          8.40670057+1.79896533e+01j, -18.5268817 +6.94221535e+01j],\n",
       "       [ 32.80550386+1.70907884e+02j,  39.16999947+1.59554619e+02j,\n",
       "         38.79066457+1.20157720e+02j, ..., -43.73006064-1.03164328e+02j,\n",
       "        -63.43595573-1.29222009e+02j, -70.7356071 -1.32182907e+02j],\n",
       "       ...,\n",
       "       [-22.22413001-6.17577477e+02j, -15.02139101-6.49103907e+02j,\n",
       "         -3.38551438-5.64160667e+02j, ...,  42.60088811+4.49555077e+02j,\n",
       "         30.98002141+6.28860801e+02j,   8.04758007+6.88983996e+02j],\n",
       "       [ -8.98445504-1.07662293e+02j,  -4.82476629-3.17538939e+02j,\n",
       "         -0.75921268-4.66053832e+02j, ...,  32.2969229 -7.36519513e+01j,\n",
       "         40.47054789+1.98029651e+02j,  42.95075454+4.45898278e+02j],\n",
       "       [ -6.4753501 +3.96245454e+01j,  15.86720969-5.83358549e+01j,\n",
       "         37.73898369-1.54314883e+02j, ...,  37.9440317 -1.85188486e+02j,\n",
       "          8.26766066-7.07121503e+01j, -26.92595056+7.00038591e+01j]])"
      ]
     },
     "execution_count": 132,
     "metadata": {},
     "output_type": "execute_result"
    }
   ],
   "source": [
    "sol1.y"
   ]
  },
  {
   "cell_type": "code",
   "execution_count": 33,
   "id": "6f0b9805-9310-449f-b6af-267273535a45",
   "metadata": {},
   "outputs": [],
   "source": [
    "def cheb(N):\n",
    "    # N is the number of points in the interior.\n",
    "    if N==0:\n",
    "        D = 0\n",
    "        x = 1\n",
    "        return D, x\n",
    "    vals = np.linspace(0, N, N+1)\n",
    "    x = np.cos(np.pi*vals/N)\n",
    "    x = x.reshape(-1, 1)\n",
    "    c = np.ones(N-1)\n",
    "    c = np.pad(c, (1,), constant_values = 2)\n",
    "    c *= (-1)**vals\n",
    "    c = c.reshape(-1, 1)\n",
    "    X = np.tile(x, (1, N+1))\n",
    "    dX = X-X.T                  \n",
    "    D  = (c*(1/c.T))/(dX+(np.eye(N+1)))       #off-diagonal entries\n",
    "    D  = D - np.diag(sum(D.T))                #diagonal entries\n",
    "\n",
    "    return D, x"
   ]
  },
  {
   "cell_type": "code",
   "execution_count": 34,
   "id": "cd3152af-786a-4f9b-b2f5-c94e352d9ba0",
   "metadata": {},
   "outputs": [
    {
     "data": {
      "text/plain": [
       "array([0. , 0.5, 1. , 1.5, 2. , 2.5, 3. , 3.5, 4. ])"
      ]
     },
     "execution_count": 34,
     "metadata": {},
     "output_type": "execute_result"
    }
   ],
   "source": [
    "tspan = np.arange(0,4.5,0.5)\n",
    "tspan"
   ]
  },
  {
   "cell_type": "code",
   "execution_count": 35,
   "id": "f0022035-1949-4c9c-a618-4655411e6a02",
   "metadata": {},
   "outputs": [],
   "source": [
    "tspan = np.arange(0,4.5,0.5)\n",
    "\n",
    "#Define the drag term\n",
    "nu = 0.001\n",
    "L=20\n",
    "n=64\n",
    "\n",
    "beta = 1\n",
    "D1 = 0.1\n",
    "D2 = 0.1\n",
    "\n",
    "#Setup our x and y domain\n",
    "x2 = np.linspace(-L/2,L/2,n+1) \n",
    "x=x2[0:-1] \n",
    "y=x.copy()\n",
    "\n",
    "#Setup the x values.\n",
    "r1=np.arange(0,n/2,1)\n",
    "r2=np.arange(-n/2,0,1)\n",
    "kx = (2*np.pi/L)*np.concatenate((r1,r2))\n",
    "ky=kx.copy()\n",
    "\n",
    "#Put X and Y on a meshgrid\n",
    "[X,Y]=np.meshgrid(x,y)\n",
    "\n",
    "#Do the same for the k values\n",
    "[KX,KY]=np.meshgrid(kx,ky)"
   ]
  },
  {
   "cell_type": "code",
   "execution_count": 36,
   "id": "8d5ff12b-27f3-4db4-be99-d02d5b63a4a7",
   "metadata": {},
   "outputs": [],
   "source": [
    "X, Y = np.meshgrid(x,y)\n",
    "m = 1\n",
    "alpha = 0\n",
    "\n",
    "#initial conditions\n",
    "u = (np.tanh(np.sqrt(X**2+Y**2))-alpha)*np.cos(m*np.angle(X+1j*Y) - np.sqrt(X**2+Y**2))\n",
    "v = (np.tanh(np.sqrt(X**2+Y**2))-alpha)*np.sin(m*np.angle(X+1j*Y) - np.sqrt(X**2+Y**2))"
   ]
  },
  {
   "cell_type": "code",
   "execution_count": 37,
   "id": "4aade973-a7cb-4e79-8cb6-79bbeeaabffe",
   "metadata": {},
   "outputs": [],
   "source": [
    "# initial conditions in fourier space, vector form\n",
    "U_hat_0 = fft2(u)\n",
    "V_hat_0 = fft2(v)   \n",
    "\n",
    "#converting to a vector because to send to the solver\n",
    "U_hat_0_vec = U_hat_0.reshape(n**2,order= 'F')\n",
    "V_hat_0_vec = V_hat_0.reshape(n**2,order= 'F')"
   ]
  },
  {
   "cell_type": "code",
   "execution_count": 38,
   "id": "49a078a7-530c-4cf6-b56b-4d6972721666",
   "metadata": {},
   "outputs": [],
   "source": [
    "init_vec = np.concatenate((U_hat_0_vec,V_hat_0_vec),axis=0).squeeze()"
   ]
  },
  {
   "cell_type": "code",
   "execution_count": 51,
   "id": "06b6c311-186d-46b9-b8f3-410c14252976",
   "metadata": {},
   "outputs": [
    {
     "data": {
      "text/plain": [
       "array([ 24.94003847  -0.j        ,   0.99295252 -14.21035779j,\n",
       "        32.80550386+170.90788411j, ..., -22.22413001-617.57747653j,\n",
       "        -8.98445504-107.66229252j,  -6.4753501  +39.62454543j])"
      ]
     },
     "execution_count": 51,
     "metadata": {},
     "output_type": "execute_result"
    }
   ],
   "source": [
    "init_vec"
   ]
  },
  {
   "cell_type": "code",
   "execution_count": 39,
   "id": "2f7b9dad-b8c4-43f3-b356-503a0c31ac5c",
   "metadata": {},
   "outputs": [],
   "source": [
    "def vortrhs(t, vec, D1, D2, beta, n, KX, KY):\n",
    "    # Reshape the Fourier-transformed vector\n",
    "    # into an nxn matrix\n",
    "    u_double_hat = vec[0:4096].reshape(n, n,order= 'F')\n",
    "    v_double_hat = vec[4096:8192].reshape(n, n, order= 'F')\n",
    "    \n",
    "    #Write all of the terms in the physical space\n",
    "    u = np.real(ifft2(u_double_hat))\n",
    "    v = np.real(ifft2(v_double_hat))\n",
    "    #need fourier transformed data--->u_double_hat\n",
    "    \n",
    "    #calculate a, lambda, omega (vectors)\n",
    "    A_2 = u**2 + v**2\n",
    "    lambda_A = 1 - A_2\n",
    "    omega_A = -beta*A_2\n",
    "    \n",
    "    #print(\"A_2\", np.shape(A_2))\n",
    "    #print(\"lambda_A\", np.shape(lambda_A))\n",
    "    #print(\"omega_A\", np.shape(omega_A))\n",
    "    \n",
    "    #calculate u_t and v_t\n",
    "    # Ut= λ(A)U −ω(A)V + D1∇2U\n",
    "    # Vt= ω(A)U −λ(A)V + D2∇2V\n",
    "    \n",
    "    NL_u = lambda_A*u - omega_A*v \n",
    "    NL_v = omega_A*u - lambda_A*v\n",
    "    \n",
    "    #print(\"NL_u\", np.shape(NL_u))\n",
    "    #print(\"NL_u\", np.shape(NL_u))\n",
    "    \n",
    "    u_t = fft2(NL_u) + D1*(-(KX**2)*u_double_hat-(KY**2)*u_double_hat)\n",
    "    v_t = fft2(NL_v) + D2*(-(KX**2)*v_double_hat-(KY**2)*v_double_hat)\n",
    "    \n",
    "    #print(\"u_t\", np.shape(u_t))\n",
    "    #print(\"v_t\", np.shape(v_t))\n",
    "    \n",
    "    #Convert everything back and return a vector in the Fourier space.\n",
    "    u_t_col = u_t.reshape(n**2,order= 'F')\n",
    "    v_t_col = v_t.reshape(n**2,order= 'F')\n",
    "    \n",
    "    #print(\"u_t_col\", np.shape(u_t_col))\n",
    "    #print(\"v_t_col\", np.shape(v_t_col))\n",
    "    \n",
    "    rhs = np.concatenate([u_t_col,v_t_col],axis=0).squeeze()\n",
    "    #print(np.shape(rhs))\n",
    "\n",
    "    return rhs"
   ]
  },
  {
   "cell_type": "code",
   "execution_count": 59,
   "id": "3f385ee3-aa09-46ac-83ef-d766dd99698e",
   "metadata": {},
   "outputs": [
    {
     "data": {
      "text/plain": [
       "array([0. , 0.5, 1. , 1.5, 2. , 2.5, 3. , 3.5, 4. ])"
      ]
     },
     "execution_count": 59,
     "metadata": {},
     "output_type": "execute_result"
    }
   ],
   "source": [
    "tspan"
   ]
  },
  {
   "cell_type": "code",
   "execution_count": 56,
   "id": "eb2e56fe-2e85-48de-9e37-5720bcbea852",
   "metadata": {},
   "outputs": [],
   "source": [
    "sol = scipy.integrate.solve_ivp(lambda t,wfvec: vortrhs(t, wfvec, D1, D2, beta, n, KX, KY),[0, 4], init_vec, t_eval = tspan, method=\"RK45\")\n"
   ]
  },
  {
   "cell_type": "code",
   "execution_count": 57,
   "id": "25c979b9-e19d-465c-b604-e60ca7e11aa6",
   "metadata": {},
   "outputs": [
    {
     "data": {
      "text/plain": [
       "(8192, 9)"
      ]
     },
     "execution_count": 57,
     "metadata": {},
     "output_type": "execute_result"
    }
   ],
   "source": [
    "np.shape(sol.y)"
   ]
  },
  {
   "cell_type": "code",
   "execution_count": 58,
   "id": "a05d77d7-8a9d-40ac-831a-4eec40cfb62c",
   "metadata": {},
   "outputs": [
    {
     "name": "stdout",
     "output_type": "stream",
     "text": [
      "[[ 24.94003847  +0.j          14.72192649  +0.j\n",
      "    9.55562266  +0.j         ...  15.17001106  +0.j\n",
      "    8.94662737  +0.j          -0.57774886  +0.j        ]\n",
      " [  0.99295252 -14.21035779j  12.14615028 -42.80583303j\n",
      "   25.25541582 -67.47187663j ...  40.13571383-110.37202815j\n",
      "   31.59735402-120.19259881j  23.61533867-134.8218486j ]\n",
      " [ 32.80550386+170.90788411j  40.47244894+156.10011109j\n",
      "   45.97767713+111.19057481j ...  30.587257   -56.98785424j\n",
      "   21.42169533 -67.92258777j  14.39372465 -71.74262202j]\n",
      " ...\n",
      " [-22.22413001-617.57747653j -14.89950082-605.23207147j\n",
      "   -5.16660928-452.83716236j ...  26.32893956+247.59958679j\n",
      "   25.71333982+311.2803757j   21.91465224+337.54647103j]\n",
      " [ -8.98445504-107.66229252j  -3.69002318-293.83526159j\n",
      "    0.99129979-385.76955485j ...  20.9178813 -117.17927412j\n",
      "   23.00162724 -13.93735101j  21.92143991 +68.04140593j]\n",
      " [ -6.4753501  +39.62454543j  11.75077744 -40.41372739j\n",
      "   25.32031269-108.28046644j ...  37.23168958-155.10157588j\n",
      "   33.31585657-119.38281254j  27.63545994 -81.71624089j]]\n"
     ]
    }
   ],
   "source": [
    "print(sol.y)"
   ]
  },
  {
   "cell_type": "code",
   "execution_count": 54,
   "id": "d9fcfd9a-ea4f-4ae8-afb4-00f19af513c6",
   "metadata": {},
   "outputs": [
    {
     "data": {
      "text/plain": [
       "array([[-0.17699565, -0.24522142, -0.30398464, ...,  0.21027749,\n",
       "         0.05597145, -0.07880072],\n",
       "       [-0.54022951, -0.49994467, -0.45382622, ..., -0.20307974,\n",
       "        -0.40206783, -0.51868589],\n",
       "       [-0.66655957, -0.56399805, -0.47436346, ..., -0.44930733,\n",
       "        -0.63047386, -0.70474882],\n",
       "       ...,\n",
       "       [ 0.77838514,  0.71908594,  0.5498074 , ...,  0.62259227,\n",
       "         0.66268678,  0.73918507],\n",
       "       [ 0.66811202,  0.57607898,  0.3901264 , ...,  0.60770366,\n",
       "         0.63384414,  0.67230737],\n",
       "       [ 0.33564784,  0.20653029,  0.03861621, ...,  0.51491698,\n",
       "         0.47107155,  0.41874119]])"
      ]
     },
     "execution_count": 54,
     "metadata": {},
     "output_type": "execute_result"
    }
   ],
   "source": [
    "np.real(ifft2(sol.y[0:4096,4].reshape(64,64).T))"
   ]
  },
  {
   "cell_type": "code",
   "execution_count": 43,
   "id": "64e1e8de-ab01-47d2-b32d-79aff19b6675",
   "metadata": {},
   "outputs": [
    {
     "data": {
      "text/plain": [
       "4.0"
      ]
     },
     "execution_count": 43,
     "metadata": {},
     "output_type": "execute_result"
    }
   ],
   "source": [
    "tspan[8]"
   ]
  },
  {
   "cell_type": "code",
   "execution_count": 44,
   "id": "64c84256-96ec-41e4-ac69-26d597f1e814",
   "metadata": {},
   "outputs": [
    {
     "name": "stdout",
     "output_type": "stream",
     "text": [
      "(64, 64)\n"
     ]
    },
    {
     "data": {
      "image/png": "[encoded data removed]",
      "text/plain": [
       "<Figure size 640x480 with 2 Axes>"
      ]
     },
     "metadata": {},
     "output_type": "display_data"
    }
   ],
   "source": [
    "[X,Y]=np.meshgrid(x,y)\n",
    "#tspan[8] =25\n",
    "z = np.real(ifft2(sol.y[0:4096,8].reshape(64,64)))\n",
    "print(np.shape(z))\n",
    "\n",
    "# Generate the plot\n",
    "fig, ax = plt.subplots()\n",
    "cmap = ax.pcolor(X, Y, z.T)\n",
    "fig.colorbar(cmap)\n",
    "plt.show(fig)"
   ]
  },
  {
   "cell_type": "markdown",
   "id": "686bf52a-d026-49e8-82af-fa3fdffdce5b",
   "metadata": {},
   "source": [
    "# Problem 2"
   ]
  },
  {
   "cell_type": "code",
   "execution_count": 133,
   "id": "31c50474-c589-40fc-978c-60334c1d9f6c",
   "metadata": {},
   "outputs": [],
   "source": [
    "# Define initial conditions\n",
    "m = 1\n",
    "alpha = 0\n",
    "n = 30\n",
    "\n",
    "# Create the Chebyshev differentiation matrix\n",
    "[D, x] = cheb(n)\n",
    "\n",
    "D[n,:]=0\n",
    "D[0,:]=0\n",
    "\n",
    "x = 10*x.reshape(n + 1)\n",
    "D2 = D@D\n",
    "D2 = D2[1:-1, 1:-1]/100\n",
    "\n",
    "# Scale Laplacian\n",
    "I = np.eye(len(D2))\n",
    "Lap = np.kron(D2, I) + np.kron(I, D2)\n",
    "A10 = Lap\n",
    "\n",
    "# Create the Chebyshev points\n",
    "x2 = x[1:-1]\n",
    "y2 = x2.copy()\n",
    "[X, Y] = np.meshgrid(x2, y2)\n",
    "A11 = Y"
   ]
  },
  {
   "cell_type": "code",
   "execution_count": 134,
   "id": "696e1de4-14c7-4944-8756-8cd408678587",
   "metadata": {},
   "outputs": [
    {
     "data": {
      "text/plain": [
       "array([ 1.00000000e+01,  9.94521895e+00,  9.78147601e+00,  9.51056516e+00,\n",
       "        9.13545458e+00,  8.66025404e+00,  8.09016994e+00,  7.43144825e+00,\n",
       "        6.69130606e+00,  5.87785252e+00,  5.00000000e+00,  4.06736643e+00,\n",
       "        3.09016994e+00,  2.07911691e+00,  1.04528463e+00,  2.83276945e-15,\n",
       "       -1.04528463e+00, -2.07911691e+00, -3.09016994e+00, -4.06736643e+00,\n",
       "       -5.00000000e+00, -5.87785252e+00, -6.69130606e+00, -7.43144825e+00,\n",
       "       -8.09016994e+00, -8.66025404e+00, -9.13545458e+00, -9.51056516e+00,\n",
       "       -9.78147601e+00, -9.94521895e+00, -1.00000000e+01])"
      ]
     },
     "execution_count": 134,
     "metadata": {},
     "output_type": "execute_result"
    }
   ],
   "source": [
    "x"
   ]
  },
  {
   "cell_type": "code",
   "execution_count": 135,
   "id": "05bfbdc9-4744-4a41-affe-452e9c6802cb",
   "metadata": {},
   "outputs": [
    {
     "data": {
      "text/plain": [
       "array([[ 0.        ,  0.        ,  0.        ,  0.        ,  0.        ],\n",
       "       [ 0.        , -0.68471467, -0.085779  , -0.81326731, -0.31499556],\n",
       "       [ 0.        , -0.14735469, -0.00770236, -0.14974624,  0.01195816],\n",
       "       [ 0.        , -0.88981786, -0.09971142, -1.01935008, -0.28842487],\n",
       "       [ 0.        , -0.36715919, -0.02147719, -0.36065585,  0.09750604]])"
      ]
     },
     "execution_count": 135,
     "metadata": {},
     "output_type": "execute_result"
    }
   ],
   "source": [
    "u = (np.tanh(np.sqrt(X**2 + Y**2)) - alpha)*np.cos(m*np.angle(X + 1j*Y) - np.sqrt(X**2 + Y**2))\n",
    "v = (np.tanh(np.sqrt(X**2 + Y**2)) - alpha)*np.sin(m*np.angle(X + 1j*Y) - np.sqrt(X**2 + Y**2))\n",
    "A12 = v\n",
    "\n",
    "# Append initial conditions\n",
    "u = u.reshape(-1, 1, order='F')\n",
    "v = v.reshape(-1, 1, order='F')\n",
    "vec1 = np.concatenate((u, v), axis=0)\n",
    "A13 = vec1\n",
    "\n",
    "def rhs2(t, vec, beta, Lap):\n",
    "    \"\"\"\"Right-hand side function to solve our PDE\"\"\"\n",
    "    u = vec[:841]\n",
    "    v = vec[841:]\n",
    "\n",
    "    u_nl = u - u**3 - u*v**2 + beta*(v*u**2 + v**3)\n",
    "    v_nl = -beta*(u**3 + u*v**2) + v - v*u**2 - v**3\n",
    "\n",
    "    u_t = u_nl + 0.1*(Lap@u)\n",
    "    v_t = v_nl + 0.1*(Lap@v)\n",
    "\n",
    "    rhs = np.concatenate((u_t, v_t), axis=0)\n",
    "\n",
    "    return rhs\n",
    "\n",
    "# Timestep using the explicit Runge-Kutta method of order 4(5)\n",
    "sol2 = scipy.integrate.solve_ivp(lambda t, vec: rhs2(t, vec, beta, Lap), [0, 4], np.squeeze(vec1), t_eval = t_span)\n",
    "A14 = sol2.y.T\n",
    "A15 = sol2.y.real[841:][:, 4].reshape(-1, 1)\n",
    "A16 = np.pad(A15.reshape(29, 29).T, [1, 1])\n",
    "A16[:5, :5]"
   ]
  },
  {
   "cell_type": "code",
   "execution_count": 136,
   "id": "8d7a08c0-e236-4209-8dc3-66990bc809c8",
   "metadata": {},
   "outputs": [
    {
     "data": {
      "text/plain": [
       "array([[ 0.75647181,  0.52765233,  0.11675198, ..., -0.53478999,\n",
       "        -0.62611813, -0.68971386],\n",
       "       [ 0.82199448,  0.2222233 ,  0.13105715, ...,  0.03317781,\n",
       "        -0.00446252, -0.04361551],\n",
       "       [ 0.90841565,  0.7092191 ,  0.30396861, ..., -0.47059638,\n",
       "        -0.61951565, -0.74305013],\n",
       "       ...,\n",
       "       [ 0.41806819,  0.98134305,  0.95457224, ...,  0.75143497,\n",
       "         0.63408637,  0.48350803],\n",
       "       [ 0.56949545,  0.10849561,  0.11426712, ...,  0.17706329,\n",
       "         0.18161147,  0.17763674],\n",
       "       [ 0.6540263 ,  0.85194401,  0.81705692, ...,  0.49204585,\n",
       "         0.36539111,  0.21951829]])"
      ]
     },
     "execution_count": 136,
     "metadata": {},
     "output_type": "execute_result"
    }
   ],
   "source": [
    "sol2.y"
   ]
  },
  {
   "cell_type": "code",
   "execution_count": 102,
   "id": "b718e600-1f7a-4748-8698-1adf96256e22",
   "metadata": {},
   "outputs": [
    {
     "data": {
      "text/plain": [
       "array([[ 0.75647181,  0.52765233,  0.11675198, ..., -0.53478999,\n",
       "        -0.62611813, -0.68971386],\n",
       "       [ 0.82199448,  0.2222233 ,  0.13105715, ...,  0.03317781,\n",
       "        -0.00446252, -0.04361551],\n",
       "       [ 0.90841565,  0.7092191 ,  0.30396861, ..., -0.47059638,\n",
       "        -0.61951565, -0.74305013],\n",
       "       ...,\n",
       "       [ 0.41806819,  0.98134305,  0.95457224, ...,  0.75143497,\n",
       "         0.63408637,  0.48350803],\n",
       "       [ 0.56949545,  0.10849561,  0.11426712, ...,  0.17706329,\n",
       "         0.18161147,  0.17763674],\n",
       "       [ 0.6540263 ,  0.85194401,  0.81705692, ...,  0.49204585,\n",
       "         0.36539111,  0.21951829]])"
      ]
     },
     "execution_count": 102,
     "metadata": {},
     "output_type": "execute_result"
    }
   ],
   "source": [
    "sol2.y"
   ]
  },
  {
   "cell_type": "code",
   "execution_count": 71,
   "id": "b175ba70-e027-492e-9135-360f76d3c698",
   "metadata": {},
   "outputs": [
    {
     "data": {
      "text/plain": [
       "array([[0.75647181, 0.02228799, 0.01418528, ..., 0.00868623, 0.00820802,\n",
       "        0.00788648],\n",
       "       [0.82199448, 0.08117934, 0.05349657, ..., 0.03330952, 0.03162555,\n",
       "        0.0305786 ],\n",
       "       [0.90841565, 0.13632203, 0.09786904, ..., 0.06356308, 0.06056539,\n",
       "        0.05880733],\n",
       "       ...,\n",
       "       [0.41806819, 0.0391491 , 0.02403323, ..., 0.01452102, 0.01272898,\n",
       "        0.01108075],\n",
       "       [0.56949545, 0.02386379, 0.01160329, ..., 0.00612753, 0.00538321,\n",
       "        0.00468505],\n",
       "       [0.6540263 , 0.0063559 , 0.00285956, ..., 0.00154244, 0.00134664,\n",
       "        0.0011808 ]])"
      ]
     },
     "execution_count": 71,
     "metadata": {},
     "output_type": "execute_result"
    }
   ],
   "source": [
    "sol2.y.real"
   ]
  },
  {
   "cell_type": "code",
   "execution_count": null,
   "id": "66bf31cd-afa1-4f79-bc47-00fa0655dc91",
   "metadata": {},
   "outputs": [],
   "source": []
  }
 ],
 "metadata": {
  "kernelspec": {
   "display_name": "Python 3 (ipykernel)",
   "language": "python",
   "name": "python3"
  },
  "language_info": {
   "codemirror_mode": {
    "name": "ipython",
    "version": 3
   },
   "file_extension": ".py",
   "mimetype": "text/x-python",
   "name": "python",
   "nbconvert_exporter": "python",
   "pygments_lexer": "ipython3",
   "version": "3.9.18"
  }
 },
 "nbformat": 4,
 "nbformat_minor": 5
}
