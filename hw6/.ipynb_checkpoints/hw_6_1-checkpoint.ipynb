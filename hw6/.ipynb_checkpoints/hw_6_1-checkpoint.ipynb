{
 "cells": [
  {
   "cell_type": "code",
   "execution_count": 1,
   "id": "1319d662-ac9e-4d88-ac6d-401ab1476693",
   "metadata": {},
   "outputs": [],
   "source": [
    "import numpy as np\n",
    "import scipy\n",
    "from scipy.fft import fft2, ifft2\n",
    "import matplotlib.pyplot as plt"
   ]
  },
  {
   "cell_type": "code",
   "execution_count": 2,
   "id": "9f2861df-abed-4be1-9b90-f909dd6d3ea0",
   "metadata": {},
   "outputs": [],
   "source": [
    "# Initialize x-y mesh\n",
    "x = np.linspace(-10, 10, 64, endpoint=False)\n",
    "y = np.linspace(-10, 10, 64, endpoint=False)\n",
    "X, Y = np.meshgrid(x, y)\n",
    "\n",
    "# Define initial conditions\n",
    "m = 1\n",
    "alpha = 0\n",
    "n = 64\n",
    "u = (np.tanh(np.sqrt(X**2 + Y**2)) - alpha)*np.cos(m*np.angle(X + 1j*Y) - np.sqrt(X**2 + Y**2))\n",
    "v = (np.tanh(np.sqrt(X**2 + Y**2)) - alpha)*np.sin(m*np.angle(X + 1j*Y) - np.sqrt(X**2 + Y**2))\n",
    "A1 = X\n",
    "A2 = u\n",
    "\n",
    "# Transform into Fourier domain\n",
    "u0 = fft2(u)\n",
    "v0 = fft2(v)\n",
    "A3 = u0.real\n",
    "\n",
    "vec0_new = np.hstack([(u0.reshape(n*n), v0.reshape(n*n))])\n",
    "\n",
    "# Append initial conditions\n",
    "u0 = u0.reshape(-1, 1, order='F')\n",
    "v0 = v0.reshape(-1, 1, order='F')\n",
    "vec0 = np.concatenate((u0, v0))\n",
    "A4 = vec0.imag\n",
    "\n",
    "def rhs1(t, n, vec, beta, KX, KY):\n",
    "    \"\"\"Right-hand side function to return Fourier transform of the solution\"\"\"\n",
    "    u_hat = vec[:4096].reshape(n, n, order='F')\n",
    "    v_hat = vec[4096:].reshape(n, n, order='F')\n",
    "\n",
    "    # Transform out of Fourier domain\n",
    "    u = ifft2(u_hat)\n",
    "    v = ifft2(v_hat)\n",
    "\n",
    "    u_nl = u - u**3 - u*v**2 + beta*(v*u**2 + v**3)\n",
    "    v_nl = -beta*(u**3 + u*v**2) + v - v*u**2 - v**3\n",
    "\n",
    "    u_t = fft2(u_nl) - 0.1*((KX**2)*u_hat + (KY**2)*u_hat)\n",
    "    v_t = fft2(v_nl) - 0.1*((KX**2)*v_hat + (KY**2)*v_hat)\n",
    "\n",
    "    u_t = u_t.reshape(n**2, order='F')\n",
    "    v_t = v_t.reshape(n**2, order='F')\n",
    "    rhs = np.concatenate((u_t, v_t), axis=0)\n",
    "\n",
    "    return rhs"
   ]
  },
  {
   "cell_type": "code",
   "execution_count": 3,
   "id": "cf7a9f99-3724-412b-ad41-228574c6f86f",
   "metadata": {},
   "outputs": [
    {
     "data": {
      "text/plain": [
       "array([[-10.    ,  -9.6875,  -9.375 , ...,   9.0625,   9.375 ,   9.6875],\n",
       "       [-10.    ,  -9.6875,  -9.375 , ...,   9.0625,   9.375 ,   9.6875],\n",
       "       [-10.    ,  -9.6875,  -9.375 , ...,   9.0625,   9.375 ,   9.6875],\n",
       "       ...,\n",
       "       [-10.    ,  -9.6875,  -9.375 , ...,   9.0625,   9.375 ,   9.6875],\n",
       "       [-10.    ,  -9.6875,  -9.375 , ...,   9.0625,   9.375 ,   9.6875],\n",
       "       [-10.    ,  -9.6875,  -9.375 , ...,   9.0625,   9.375 ,   9.6875]])"
      ]
     },
     "execution_count": 3,
     "metadata": {},
     "output_type": "execute_result"
    }
   ],
   "source": [
    "X"
   ]
  },
  {
   "cell_type": "code",
   "execution_count": 4,
   "id": "3192d01b-2311-45b4-8e58-366a421602f4",
   "metadata": {},
   "outputs": [
    {
     "data": {
      "text/plain": [
       "array([0. , 0.5, 1. , 1.5, 2. , 2.5, 3. , 3.5, 4. ])"
      ]
     },
     "execution_count": 4,
     "metadata": {},
     "output_type": "execute_result"
    }
   ],
   "source": [
    "t_span = np.linspace(0, 4, 9)\n",
    "t_span"
   ]
  },
  {
   "cell_type": "code",
   "execution_count": 5,
   "id": "c9b66c5f-8949-483e-8992-d33f461a9b3c",
   "metadata": {},
   "outputs": [
    {
     "data": {
      "text/plain": [
       "(8192,)"
      ]
     },
     "execution_count": 5,
     "metadata": {},
     "output_type": "execute_result"
    }
   ],
   "source": [
    "np.squeeze(vec0).shape"
   ]
  },
  {
   "cell_type": "code",
   "execution_count": 6,
   "id": "453019df-251c-4b40-9f50-ab420cb96fab",
   "metadata": {},
   "outputs": [
    {
     "data": {
      "text/plain": [
       "(2, 4096)"
      ]
     },
     "execution_count": 6,
     "metadata": {},
     "output_type": "execute_result"
    }
   ],
   "source": [
    "vec0_new.shape"
   ]
  },
  {
   "cell_type": "code",
   "execution_count": 7,
   "id": "a96f3c30-7c24-44e4-9c8d-208577a17896",
   "metadata": {},
   "outputs": [
    {
     "data": {
      "text/plain": [
       "array([[ 0.04736064,  0.28133149,  0.40533858, ..., -0.39682142,\n",
       "        -0.3207424 , -0.16293972],\n",
       "       [-0.35052829, -0.04875761,  0.12279245, ..., -0.72544528,\n",
       "        -0.70229182, -0.59007818],\n",
       "       [-0.55427268, -0.2701817 , -0.10639557, ..., -0.8698788 ,\n",
       "        -0.86781795, -0.77714496],\n",
       "       ...,\n",
       "       [ 0.86154337,  0.92296386,  0.9143369 , ...,  0.47410608,\n",
       "         0.55025144,  0.71735188],\n",
       "       [ 0.77718833,  0.85307907,  0.85788894, ...,  0.28891867,\n",
       "         0.40292024,  0.6114546 ],\n",
       "       [ 0.51541845,  0.63887318,  0.68372814, ..., -0.00172152,\n",
       "         0.12407574,  0.33709663]])"
      ]
     },
     "execution_count": 7,
     "metadata": {},
     "output_type": "execute_result"
    }
   ],
   "source": [
    "t_span = np.linspace(0, 4, 9)\n",
    "r1 = np.arange(0, n/2, 1)\n",
    "r2 = np.arange(-n/2, 0, 1)\n",
    "kx = (2*np.pi/20)*np.concatenate((r1, r2))\n",
    "ky = kx.copy()\n",
    "KX, KY = np.meshgrid(kx, ky)\n",
    "beta = 1\n",
    "\n",
    "# Timestep using the explicit Runge-Kutta method of order 4(5)\n",
    "sol1 = scipy.integrate.solve_ivp(lambda t, vec: rhs1(t, n, vec, beta, KX, KY), [0, 4], np.squeeze(vec0), t_eval = t_span)\n",
    "A5 = sol1.y.real\n",
    "A6 = sol1.y.imag\n",
    "A7 = sol1.y.real[:4096][:, 4].reshape(-1, 1)\n",
    "A8 = sol1.y.real[:4096][:, 4].reshape(n, n, order='F')\n",
    "A9 = ifft2(sol1.y[:4096][:, 4].reshape(n, n, order='F')).real\n",
    "A9"
   ]
  },
  {
   "cell_type": "code",
   "execution_count": 8,
   "id": "bd6411db-e39f-473a-a004-f00d70277edd",
   "metadata": {},
   "outputs": [
    {
     "data": {
      "text/plain": [
       "array([[ 24.94003847+0.00000000e+00j,  12.73268299-1.11053201e-15j,\n",
       "         -1.38095598-2.32314163e-16j, ..., -64.02389647-1.46100786e-14j,\n",
       "        -67.76356741-1.56109324e-14j, -61.18058974-1.99476748e-14j],\n",
       "       [  0.99295252-1.42103578e+01j,  12.02949309-4.37375205e+01j,\n",
       "         24.70184895-7.06089959e+01j, ...,  29.22746661-3.10063992e+01j,\n",
       "          8.40670057+1.79896533e+01j, -18.5268817 +6.94221535e+01j],\n",
       "       [ 32.80550386+1.70907884e+02j,  39.16999947+1.59554619e+02j,\n",
       "         38.79066457+1.20157720e+02j, ..., -43.73006064-1.03164328e+02j,\n",
       "        -63.43595573-1.29222009e+02j, -70.7356071 -1.32182907e+02j],\n",
       "       ...,\n",
       "       [-22.22413001-6.17577477e+02j, -15.02139101-6.49103907e+02j,\n",
       "         -3.38551438-5.64160667e+02j, ...,  42.60088811+4.49555077e+02j,\n",
       "         30.98002141+6.28860801e+02j,   8.04758007+6.88983996e+02j],\n",
       "       [ -8.98445504-1.07662293e+02j,  -4.82476629-3.17538939e+02j,\n",
       "         -0.75921268-4.66053832e+02j, ...,  32.2969229 -7.36519513e+01j,\n",
       "         40.47054789+1.98029651e+02j,  42.95075454+4.45898278e+02j],\n",
       "       [ -6.4753501 +3.96245454e+01j,  15.86720969-5.83358549e+01j,\n",
       "         37.73898369-1.54314883e+02j, ...,  37.9440317 -1.85188486e+02j,\n",
       "          8.26766066-7.07121503e+01j, -26.92595056+7.00038591e+01j]])"
      ]
     },
     "execution_count": 8,
     "metadata": {},
     "output_type": "execute_result"
    }
   ],
   "source": [
    "sol1.y"
   ]
  },
  {
   "cell_type": "code",
   "execution_count": 10,
   "id": "64c84256-96ec-41e4-ac69-26d597f1e814",
   "metadata": {},
   "outputs": [
    {
     "name": "stdout",
     "output_type": "stream",
     "text": [
      "(64, 64)\n"
     ]
    },
    {
     "data": {
      "image/png": "[encoded data removed]",
      "text/plain": [
       "<Figure size 640x480 with 2 Axes>"
      ]
     },
     "metadata": {},
     "output_type": "display_data"
    }
   ],
   "source": [
    "[X,Y]=np.meshgrid(x,y)\n",
    "#tspan[8] =25\n",
    "z = np.real(ifft2(sol1.y[0:4096,8].reshape(64,64)))\n",
    "print(np.shape(z))\n",
    "\n",
    "# Generate the plot\n",
    "fig, ax = plt.subplots()\n",
    "cmap = ax.pcolor(X, Y, z.T)\n",
    "fig.colorbar(cmap)\n",
    "plt.show(fig)"
   ]
  },
  {
   "cell_type": "markdown",
   "id": "686bf52a-d026-49e8-82af-fa3fdffdce5b",
   "metadata": {},
   "source": [
    "# Problem 2"
   ]
  },
  {
   "cell_type": "code",
   "execution_count": 56,
   "id": "af7d55db-de1a-45ec-a0ad-abaf9946ef56",
   "metadata": {},
   "outputs": [],
   "source": [
    "# Define Cheb\n",
    "def cheb(N):\n",
    "    if N == 0:\n",
    "        D = 0.\n",
    "        x = 1.\n",
    "    else:\n",
    "        n = np.arange(0, N+1)\n",
    "        x = np.cos(np.pi*n/N).reshape(N+1, 1)\n",
    "        c = (np.hstack(([2.], np.ones(N-1), [2.])) * (-1)**n).reshape(N+1, 1)\n",
    "        X = np.tile(x, (1, N+1))\n",
    "        dX = X - X.T\n",
    "        D = np.dot(c, 1./c.T) / (dX + np.eye(N+1))\n",
    "        D -= np.diag(np.sum(D.T, axis=0))  # Changed sum() to np.sum()\n",
    "    \n",
    "    return D, x.reshape(N+1)"
   ]
  },
  {
   "cell_type": "code",
   "execution_count": 70,
   "id": "31c50474-c589-40fc-978c-60334c1d9f6c",
   "metadata": {},
   "outputs": [],
   "source": [
    "# Define initial conditions\n",
    "m = 1\n",
    "alpha = 0\n",
    "n = 30\n",
    "N2 = (n+1)*(n+1)\n",
    "# Create the Chebyshev differentiation matrix\n",
    "D, x = cheb(n)\n",
    "\n",
    "D[n,:]=0\n",
    "D[0,:]=0\n",
    "\n",
    "D2 = (np.dot(D, D))/((10)*(10))\n",
    "y = x\n",
    "\n",
    "# Scale Laplacian\n",
    "I = np.eye(len(D2))\n",
    "Lap = np.kron(D2, I) + np.kron(I, D2)\n",
    "\n",
    "\n",
    "# Create the Chebyshev points\n",
    "X, Y = np.meshgrid(x,y)\n",
    "X = X*(20/2)\n",
    "Y = Y*(20/2)"
   ]
  },
  {
   "cell_type": "code",
   "execution_count": null,
   "id": "1ddc68c2-e619-43d4-aada-52e4d784a016",
   "metadata": {},
   "outputs": [],
   "source": []
  },
  {
   "cell_type": "code",
   "execution_count": 71,
   "id": "05bfbdc9-4744-4a41-affe-452e9c6802cb",
   "metadata": {},
   "outputs": [],
   "source": [
    "u = (np.tanh(np.sqrt(X**2 + Y**2)) - alpha)*np.cos(m*np.angle(X + 1j*Y) - np.sqrt(X**2 + Y**2))\n",
    "v = (np.tanh(np.sqrt(X**2 + Y**2)) - alpha)*np.sin(m*np.angle(X + 1j*Y) - np.sqrt(X**2 + Y**2))\n",
    "\n",
    "# Append initial conditions\n",
    "u1 = u.flatten()\n",
    "v1 = v.flatten()\n",
    "vec1 = np.concatenate([u1, v1])\n",
    "\n",
    "def rhs2(t, vec, beta,N, Lap):\n",
    "    \"\"\"\"Right-hand side function to solve our PDE\"\"\"\n",
    "    u = vec[:N]\n",
    "    v = vec[N:2*N]\n",
    "\n",
    "    u_nl = u - u**3 - u*v**2 + beta*(v*u**2 + v**3)\n",
    "    v_nl = -beta*(u**3 + u*v**2) + v - v*u**2 - v**3\n",
    "\n",
    "    u_t = u_nl + 0.1*(Lap@u)\n",
    "    v_t = v_nl + 0.1*(Lap@v)\n",
    "\n",
    "    rhs = np.concatenate((u_t, v_t), axis=0)\n",
    "\n",
    "    return rhs\n",
    "\n"
   ]
  },
  {
   "cell_type": "code",
   "execution_count": 73,
   "id": "822df668-dad1-46ef-afdd-ab5255c944d9",
   "metadata": {},
   "outputs": [
    {
     "data": {
      "text/plain": [
       "array([[ 0.70358468,  0.27678435, -0.21775865, ..., -0.79689015,\n",
       "        -0.40972859,  0.07776933],\n",
       "       [ 0.73241275,  0.47188952,  0.07344742, ..., -0.96577657,\n",
       "        -0.78500366, -0.4261521 ],\n",
       "       [ 0.81058026,  0.37605887, -0.11123233, ..., -0.84008598,\n",
       "        -0.49565779, -0.03085913],\n",
       "       ...,\n",
       "       [ 0.58562756,  0.91352592,  0.97914313, ..., -0.50294695,\n",
       "        -0.84298442, -0.97634716],\n",
       "       [ 0.6808609 ,  0.87018536,  0.97997159, ..., -0.16453512,\n",
       "        -0.5878894 , -0.88455009],\n",
       "       [ 0.71061143,  0.96093661,  0.97601586, ..., -0.60413504,\n",
       "        -0.91222169, -0.99697897]])"
      ]
     },
     "execution_count": 73,
     "metadata": {},
     "output_type": "execute_result"
    }
   ],
   "source": [
    "# Timestep using the explicit Runge-Kutta method of order 4(5)\n",
    "sol2 = scipy.integrate.solve_ivp(lambda t, vec: rhs2(t, vec, beta,N2, Lap), [0, 4], np.squeeze(vec1), t_eval = t_span)\n",
    "sol2.y"
   ]
  }
 ],
 "metadata": {
  "kernelspec": {
   "display_name": "Python 3 (ipykernel)",
   "language": "python",
   "name": "python3"
  },
  "language_info": {
   "codemirror_mode": {
    "name": "ipython",
    "version": 3
   },
   "file_extension": ".py",
   "mimetype": "text/x-python",
   "name": "python",
   "nbconvert_exporter": "python",
   "pygments_lexer": "ipython3",
   "version": "3.10.9"
  }
 },
 "nbformat": 4,
 "nbformat_minor": 5
}
