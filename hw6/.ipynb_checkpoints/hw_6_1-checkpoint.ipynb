{
 "cells": [
  {
   "cell_type": "code",
   "execution_count": 46,
   "id": "1319d662-ac9e-4d88-ac6d-401ab1476693",
   "metadata": {},
   "outputs": [],
   "source": [
    "import numpy as np\n",
    "import scipy\n",
    "from scipy.fftpack import fft2, ifft2\n",
    "import matplotlib.pyplot as plt\n",
    "from scipy.integrate import solve_ivp\n",
    "from scipy.linalg import kron"
   ]
  },
  {
   "cell_type": "code",
   "execution_count": 47,
   "id": "9f2861df-abed-4be1-9b90-f909dd6d3ea0",
   "metadata": {},
   "outputs": [],
   "source": [
    "# Initialize x-y mesh\n",
    "x = np.linspace(-10, 10, 64, endpoint=False)\n",
    "y = np.linspace(-10, 10, 64, endpoint=False)\n",
    "X, Y = np.meshgrid(x, y)\n",
    "\n",
    "# Define initial conditions\n",
    "m = 1\n",
    "alpha = 0\n",
    "n = 64\n",
    "u = (np.tanh(np.sqrt(X**2 + Y**2)) - alpha)*np.cos(m*np.angle(X + 1j*Y) - np.sqrt(X**2 + Y**2))\n",
    "v = (np.tanh(np.sqrt(X**2 + Y**2)) - alpha)*np.sin(m*np.angle(X + 1j*Y) - np.sqrt(X**2 + Y**2))\n",
    "\n",
    "# Transform into Fourier domain\n",
    "u0 = fft2(u).flatten()\n",
    "v0 = fft2(v).flatten()\n",
    "\n",
    "vec0_new = np.concatenate([u0, v0])\n",
    "#vec0_new = np.hstack([(u0.reshape(n*n), v0.reshape(n*n))])\n",
    "\n",
    "# Append initial conditions\n",
    "#u0 = u0.reshape(-1, 1, order='F')\n",
    "#v0 = v0.reshape(-1, 1, order='F')\n",
    "#vec0 = np.concatenate((u0, v0))\n",
    "\n",
    "def rhs1(t, vec, beta, n, KX, KY):\n",
    "    \"\"\"Right-hand side function to return Fourier transform of the solution\"\"\"\n",
    "    u_hat = vec[:4096].reshape(n, n, order='F')\n",
    "    v_hat = vec[4096:].reshape(n, n, order='F')\n",
    "\n",
    "    # Transform out of Fourier domain\n",
    "    u = ifft2(u_hat)\n",
    "    v = ifft2(v_hat)\n",
    "\n",
    "    u_nl = u - u**3 - u*v**2 + beta*(v*u**2 + v**3)\n",
    "    v_nl = -beta*(u**3 + u*v**2) + v - v*u**2 - v**3\n",
    "\n",
    "    u_t = fft2(u_nl) - 0.1*((KX**2)*u_hat + (KY**2)*u_hat)\n",
    "    v_t = fft2(v_nl) - 0.1*((KX**2)*v_hat + (KY**2)*v_hat)\n",
    "\n",
    "    u_t = u_t.reshape(n**2, order='F')\n",
    "    v_t = v_t.reshape(n**2, order='F')\n",
    "    rhs = np.concatenate((u_t, v_t), axis=0)\n",
    "\n",
    "    return rhs"
   ]
  },
  {
   "cell_type": "code",
   "execution_count": 48,
   "id": "616732a3-7233-461e-bac2-568c31fd52fe",
   "metadata": {},
   "outputs": [
    {
     "data": {
      "text/plain": [
       "(8192,)"
      ]
     },
     "execution_count": 48,
     "metadata": {},
     "output_type": "execute_result"
    }
   ],
   "source": [
    "vec0_new.shape"
   ]
  },
  {
   "cell_type": "code",
   "execution_count": 49,
   "id": "a96f3c30-7c24-44e4-9c8d-208577a17896",
   "metadata": {},
   "outputs": [],
   "source": [
    "t_span = np.linspace(0, 4, 9)\n",
    "r1 = np.arange(0, n/2, 1)\n",
    "r2 = np.arange(-n/2, 0, 1)\n",
    "kx = (2*np.pi/20)*np.concatenate((r1, r2))\n",
    "ky = kx.copy()\n",
    "KX, KY = np.meshgrid(kx, ky)\n",
    "beta = 1\n",
    "\n",
    "# Timestep using the explicit Runge-Kutta method of order 4(5)\n",
    "#sol = solve_ivp(diffusion_rhs,t_span=[0, 4],y0=y0,t_eval=tspan,method='RK45',args=params)\n",
    "sol1 = solve_ivp(rhs1, [0, 4], y0=vec0_new, t_eval = t_span, method='RK45', args=(beta, n, KX, KY))\n",
    "A1 = sol1.y"
   ]
  },
  {
   "cell_type": "code",
   "execution_count": 50,
   "id": "bd6411db-e39f-473a-a004-f00d70277edd",
   "metadata": {},
   "outputs": [
    {
     "name": "stdout",
     "output_type": "stream",
     "text": [
      "[[ 24.94003847+0.00000000e+00j  12.73268299-3.81634074e-15j\n",
      "   -1.38095598-4.60674905e-15j ... -64.02389647-1.92707133e-14j\n",
      "  -67.76356741-1.20381749e-14j -61.18058974-9.88753802e-15j]\n",
      " [-18.55666362-5.81663109e+01j -42.51586944-4.69129224e+01j\n",
      "  -60.80795253-2.57480390e+01j ... -26.39439597+1.13082890e+02j\n",
      "    6.86544434+1.23000456e+02j  41.4436393 +1.10055312e+02j]\n",
      " [-16.04755868+3.28279829e+01j -22.03971648-4.57977740e+01j\n",
      "  -23.23089505-1.04141716e+02j ... -25.03391682-9.26527314e+01j\n",
      "  -29.2936105 -4.09594873e+01j -31.3712619 +1.56986891e+01j]\n",
      " ...\n",
      " [ 24.73021466-5.66774723e+02j  34.94179045-3.31372917e+02j\n",
      "   38.82924248-4.97842318e+01j ...   4.99619196+6.02396295e+02j\n",
      "   -9.93322885+4.90736906e+02j -25.6299042 +2.81792021e+02j]\n",
      " [ 25.33720124-3.61633792e+02j  43.00958768-4.53711746e+02j\n",
      "   51.93221654-4.47841562e+02j ... -30.76392977+2.66442187e+02j\n",
      "  -58.45411318+4.29165358e+02j -74.0191717 +5.05315322e+02j]\n",
      " [ -6.4753501 +3.96245454e+01j  15.86720969-5.83358549e+01j\n",
      "   37.73898369-1.54314883e+02j ...  37.9440317 -1.85188486e+02j\n",
      "    8.26766066-7.07121503e+01j -26.92595056+7.00038591e+01j]]\n"
     ]
    }
   ],
   "source": [
    "print(A1)"
   ]
  },
  {
   "cell_type": "code",
   "execution_count": 28,
   "id": "64c84256-96ec-41e4-ac69-26d597f1e814",
   "metadata": {},
   "outputs": [],
   "source": [
    "#[X,Y]=np.meshgrid(x,y)\n",
    "##tspan[8] =25\n",
    "#z = np.real(ifft2(sol1.y[0:4096,8].reshape(64,64)))\n",
    "#print(np.shape(z))\n",
    "\n",
    "# Generate the plot\n",
    "#fig, ax = plt.subplots()\n",
    "#cmap = ax.pcolor(X, Y, z.T)\n",
    "#fig.colorbar(cmap)\n",
    "#plt.show(fig)"
   ]
  },
  {
   "cell_type": "markdown",
   "id": "686bf52a-d026-49e8-82af-fa3fdffdce5b",
   "metadata": {},
   "source": [
    "# Problem 2"
   ]
  },
  {
   "cell_type": "code",
   "execution_count": 29,
   "id": "af7d55db-de1a-45ec-a0ad-abaf9946ef56",
   "metadata": {},
   "outputs": [],
   "source": [
    "# Define Cheb\n",
    "def cheb(N):\n",
    "    if N == 0:\n",
    "        D = 0.\n",
    "        x = 1.\n",
    "    else:\n",
    "        n = np.arange(0, N+1)\n",
    "        x = np.cos(np.pi*n/N).reshape(N+1, 1)\n",
    "        c = (np.hstack(([2.], np.ones(N-1), [2.])) * (-1)**n).reshape(N+1, 1)\n",
    "        X = np.tile(x, (1, N+1))\n",
    "        dX = X - X.T\n",
    "        D = np.dot(c, 1./c.T) / (dX + np.eye(N+1))\n",
    "        D -= np.diag(np.sum(D.T, axis=0))  # Changed sum() to np.sum()\n",
    "    \n",
    "    return D, x.reshape(N+1)"
   ]
  },
  {
   "cell_type": "code",
   "execution_count": 30,
   "id": "31c50474-c589-40fc-978c-60334c1d9f6c",
   "metadata": {},
   "outputs": [],
   "source": [
    "# Define initial conditions\n",
    "m = 1\n",
    "alpha = 0\n",
    "n = 30\n",
    "N2 = (n+1)*(n+1)\n",
    "# Create the Chebyshev differentiation matrix\n",
    "D, x = cheb(n)\n",
    "\n",
    "D[n,:]=0\n",
    "D[0,:]=0\n",
    "\n",
    "D2 = (np.dot(D, D))/((10)*(10))\n",
    "y = x\n",
    "\n",
    "# Scale Laplacian\n",
    "I = np.eye(len(D2))\n",
    "Lap = kron(D2, I) + kron(I, D2)\n",
    "\n",
    "\n",
    "# Create the Chebyshev points\n",
    "X, Y = np.meshgrid(x,y)\n",
    "X = X*(20/2)\n",
    "Y = Y*(20/2)"
   ]
  },
  {
   "cell_type": "code",
   "execution_count": 31,
   "id": "05bfbdc9-4744-4a41-affe-452e9c6802cb",
   "metadata": {},
   "outputs": [],
   "source": [
    "u = (np.tanh(np.sqrt(X**2 + Y**2)) - alpha)*np.cos(m*np.angle(X + 1j*Y) - np.sqrt(X**2 + Y**2))\n",
    "v = (np.tanh(np.sqrt(X**2 + Y**2)) - alpha)*np.sin(m*np.angle(X + 1j*Y) - np.sqrt(X**2 + Y**2))\n",
    "\n",
    "# Append initial conditions\n",
    "u1 = u.flatten()\n",
    "v1 = v.flatten()\n",
    "vec1 = np.concatenate([u1, v1])\n",
    "\n",
    "def rhs2(t, vec, beta,N, Lap):\n",
    "    \"\"\"\"Right-hand side function to solve our PDE\"\"\"\n",
    "    u = vec[:N]\n",
    "    v = vec[N:2*N]\n",
    "\n",
    "    u_nl = u - u**3 - u*v**2 + beta*(v*u**2 + v**3)\n",
    "    v_nl = -beta*(u**3 + u*v**2) + v - v*u**2 - v**3\n",
    "\n",
    "    u_t = u_nl + 0.1*(Lap@u)\n",
    "    v_t = v_nl + 0.1*(Lap@v)\n",
    "\n",
    "    rhs = np.concatenate((u_t, v_t), axis=0)\n",
    "\n",
    "    return rhs\n",
    "\n"
   ]
  },
  {
   "cell_type": "code",
   "execution_count": 32,
   "id": "822df668-dad1-46ef-afdd-ab5255c944d9",
   "metadata": {},
   "outputs": [],
   "source": [
    "# Timestep using the explicit Runge-Kutta method of order 4(5)\n",
    "sol2 = scipy.integrate.solve_ivp(lambda t, vec: rhs2(t, vec, beta,N2, Lap), [0, 4], np.squeeze(vec1), t_eval = t_span)\n",
    "A2 = sol2.y"
   ]
  },
  {
   "cell_type": "code",
   "execution_count": 33,
   "id": "d66ede49-5e80-4a97-ae15-d45f6fe5a15d",
   "metadata": {},
   "outputs": [
    {
     "data": {
      "text/plain": [
       "array([[ 0.70358468,  0.27678435, -0.21775865, ..., -0.79689015,\n",
       "        -0.40972859,  0.07776933],\n",
       "       [ 0.73241275,  0.47188952,  0.07344742, ..., -0.96577657,\n",
       "        -0.78500366, -0.4261521 ],\n",
       "       [ 0.81058026,  0.37605887, -0.11123233, ..., -0.84008598,\n",
       "        -0.49565779, -0.03085913],\n",
       "       ...,\n",
       "       [ 0.58562756,  0.91352592,  0.97914313, ..., -0.50294695,\n",
       "        -0.84298442, -0.97634716],\n",
       "       [ 0.6808609 ,  0.87018536,  0.97997159, ..., -0.16453512,\n",
       "        -0.5878894 , -0.88455009],\n",
       "       [ 0.71061143,  0.96093661,  0.97601586, ..., -0.60413504,\n",
       "        -0.91222169, -0.99697897]])"
      ]
     },
     "execution_count": 33,
     "metadata": {},
     "output_type": "execute_result"
    }
   ],
   "source": [
    "A2"
   ]
  },
  {
   "cell_type": "code",
   "execution_count": null,
   "id": "bde0ce5c-f8c1-4440-894e-dd35484cb152",
   "metadata": {},
   "outputs": [],
   "source": []
  }
 ],
 "metadata": {
  "kernelspec": {
   "display_name": "Python 3 (ipykernel)",
   "language": "python",
   "name": "python3"
  },
  "language_info": {
   "codemirror_mode": {
    "name": "ipython",
    "version": 3
   },
   "file_extension": ".py",
   "mimetype": "text/x-python",
   "name": "python",
   "nbconvert_exporter": "python",
   "pygments_lexer": "ipython3",
   "version": "3.10.9"
  }
 },
 "nbformat": 4,
 "nbformat_minor": 5
}
